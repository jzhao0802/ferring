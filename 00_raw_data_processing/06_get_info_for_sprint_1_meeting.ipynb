{
 "cells": [
  {
   "cell_type": "code",
   "execution_count": 4,
   "metadata": {
    "collapsed": true
   },
   "outputs": [],
   "source": [
    "import pandas as pd\n",
    "import set_lib_paths\n",
    "import raw_data_explorer\n",
    "import importlib\n",
    "importlib.reload(raw_data_explorer)\n",
    "pd.options.display.max_rows = 15\n",
    "pd.options.display.max_columns = 40\n",
    "case_study_codes = ['303', '004']\n",
    "merged_file = 'F:/Projects/Ferring/data/pre_modelling/merged_data/MERGED_COUNT_DATE.csv'\n",
    "df = pd.read_csv(merged_file)\n",
    "\n",
    "base_dir = 'F:/Projects/Ferring/data/pre_modelling/Miso-Obs-'"
   ]
  },
  {
   "cell_type": "code",
   "execution_count": 7,
   "metadata": {},
   "outputs": [],
   "source": [
    "case_study_index = 0\n",
    "current_case_study_code = case_study_codes[case_study_index]\n",
    "current_dir = '%s%s/'%(base_dir, current_case_study_code)\n",
    "explorer_303 = raw_data_explorer.RawDataExplorer()\n",
    "explorer_303.set_base_dir(current_dir)\n",
    "explorer_303.load_data(csv=True)\n"
   ]
  },
  {
   "cell_type": "code",
   "execution_count": 8,
   "metadata": {
    "collapsed": true
   },
   "outputs": [],
   "source": [
    "data = explorer_303.get_data()"
   ]
  },
  {
   "cell_type": "code",
   "execution_count": 13,
   "metadata": {},
   "outputs": [
    {
     "name": "stdout",
     "output_type": "stream",
     "text": [
      "MERGED_COUNT_DATE.csv 637\n",
      "EX_COUNT_DATE.csv 680\n",
      "DD_COUNT_DATE.csv 680\n",
      "MH_COUNT_DATE.csv 637\n",
      "DM_COUNT_DATE.csv 680\n",
      "BS_COUNT_DATE.csv 680\n"
     ]
    }
   ],
   "source": [
    "d=[print (file,len(df)) for file,df in data.items()]"
   ]
  },
  {
   "cell_type": "code",
   "execution_count": null,
   "metadata": {
    "collapsed": true
   },
   "outputs": [],
   "source": [
    "data['DD_COUNT_DATE.csv']"
   ]
  }
 ],
 "metadata": {
  "kernelspec": {
   "display_name": "Python 3",
   "language": "python",
   "name": "python3"
  },
  "language_info": {
   "codemirror_mode": {
    "name": "ipython",
    "version": 3
   },
   "file_extension": ".py",
   "mimetype": "text/x-python",
   "name": "python",
   "nbconvert_exporter": "python",
   "pygments_lexer": "ipython3",
   "version": "3.4.5"
  }
 },
 "nbformat": 4,
 "nbformat_minor": 2
}
