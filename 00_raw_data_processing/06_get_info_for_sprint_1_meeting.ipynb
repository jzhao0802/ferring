{
 "cells": [
  {
   "cell_type": "code",
   "execution_count": 4,
   "metadata": {
    "collapsed": true
   },
   "outputs": [],
   "source": [
    "import pandas as pd\n",
    "import set_lib_paths\n",
    "import raw_data_explorer\n",
    "import importlib\n",
    "importlib.reload(raw_data_explorer)\n",
    "pd.options.display.max_rows = 15\n",
    "pd.options.display.max_columns = 40\n",
    "case_study_codes = ['303', '004']\n",
    "merged_file = 'F:/Projects/Ferring/data/pre_modelling/merged_data/MERGED_COUNT_DATE.csv'\n",
    "df = pd.read_csv(merged_file)\n",
    "\n",
    "base_dir = 'F:/Projects/Ferring/data/pre_modelling/Miso-Obs-'"
   ]
  },
  {
   "cell_type": "code",
   "execution_count": 7,
   "metadata": {},
   "outputs": [],
   "source": [
    "case_study_index = 0\n",
    "current_case_study_code = case_study_codes[case_study_index]\n",
    "current_dir = '%s%s/'%(base_dir, current_case_study_code)\n",
    "explorer_303 = raw_data_explorer.RawDataExplorer()\n",
    "explorer_303.set_base_dir(current_dir)\n",
    "explorer_303.load_data(csv=True)\n"
   ]
  },
  {
   "cell_type": "code",
   "execution_count": 15,
   "metadata": {
    "collapsed": true
   },
   "outputs": [],
   "source": [
    "case_study_index = 1\n",
    "current_case_study_code = case_study_codes[case_study_index]\n",
    "current_dir = '%s%s/'%(base_dir, current_case_study_code)\n",
    "explorer_004 = raw_data_explorer.RawDataExplorer()\n",
    "explorer_004.set_base_dir(current_dir)\n",
    "explorer_004.load_data(csv=True)\n"
   ]
  },
  {
   "cell_type": "code",
   "execution_count": 17,
   "metadata": {
    "collapsed": true
   },
   "outputs": [],
   "source": [
    "data_303 = explorer_303.get_data()\n",
    "data_004 = explorer_004.get_data()"
   ]
  },
  {
   "cell_type": "code",
   "execution_count": 19,
   "metadata": {},
   "outputs": [
    {
     "name": "stdout",
     "output_type": "stream",
     "text": [
      "MERGED_COUNT_DATE.csv 637\n",
      "EX_COUNT_DATE.csv 680\n",
      "DD_COUNT_DATE.csv 680\n",
      "MH_COUNT_DATE.csv 637\n",
      "DM_COUNT_DATE.csv 680\n",
      "BS_COUNT_DATE.csv 680\n",
      "MERGED_COUNT_DATE.csv 436\n",
      "EX_COUNT_DATE.csv 436\n",
      "DD_COUNT_DATE.csv 434\n",
      "MH_COUNT_DATE.csv 394\n",
      "DM_COUNT_DATE.csv 436\n",
      "BS_COUNT_DATE.csv 434\n",
      "VS_COUNT_DATE.csv 434\n"
     ]
    }
   ],
   "source": [
    "d=[print (file,len(df)) for file,df in data_303.items()]\n",
    "d=[print (file,len(df)) for file,df in data_004.items()]"
   ]
  },
  {
   "cell_type": "code",
   "execution_count": 14,
   "metadata": {},
   "outputs": [
    {
     "data": {
      "text/html": [
       "<div>\n",
       "<table border=\"1\" class=\"dataframe\">\n",
       "  <thead>\n",
       "    <tr style=\"text-align: right;\">\n",
       "      <th></th>\n",
       "      <th>Unnamed: 0</th>\n",
       "      <th>USUBJID</th>\n",
       "      <th>DD_DELIVERY_METHOD</th>\n",
       "      <th>DD_DELIVERY_TIME</th>\n",
       "    </tr>\n",
       "  </thead>\n",
       "  <tbody>\n",
       "    <tr>\n",
       "      <th>0</th>\n",
       "      <td>0</td>\n",
       "      <td>303-01-15001</td>\n",
       "      <td>CESAREAN SECTION</td>\n",
       "      <td>2010-12-02T17:35</td>\n",
       "    </tr>\n",
       "    <tr>\n",
       "      <th>1</th>\n",
       "      <td>4</td>\n",
       "      <td>303-01-15002</td>\n",
       "      <td>CESAREAN SECTION</td>\n",
       "      <td>2011-01-12T07:58</td>\n",
       "    </tr>\n",
       "    <tr>\n",
       "      <th>2</th>\n",
       "      <td>8</td>\n",
       "      <td>303-01-15006</td>\n",
       "      <td>CESAREAN SECTION</td>\n",
       "      <td>2011-03-06T13:48</td>\n",
       "    </tr>\n",
       "    <tr>\n",
       "      <th>3</th>\n",
       "      <td>12</td>\n",
       "      <td>303-01-15007</td>\n",
       "      <td>SPONTANEOUS VAGINAL</td>\n",
       "      <td>2011-04-12T10:47</td>\n",
       "    </tr>\n",
       "    <tr>\n",
       "      <th>4</th>\n",
       "      <td>16</td>\n",
       "      <td>303-01-15008</td>\n",
       "      <td>CESAREAN SECTION</td>\n",
       "      <td>2011-04-22T00:26</td>\n",
       "    </tr>\n",
       "    <tr>\n",
       "      <th>5</th>\n",
       "      <td>20</td>\n",
       "      <td>303-01-15011</td>\n",
       "      <td>SPONTANEOUS VAGINAL</td>\n",
       "      <td>2011-07-15T20:07</td>\n",
       "    </tr>\n",
       "    <tr>\n",
       "      <th>6</th>\n",
       "      <td>24</td>\n",
       "      <td>303-01-15014</td>\n",
       "      <td>CESAREAN SECTION</td>\n",
       "      <td>2011-10-12T13:21</td>\n",
       "    </tr>\n",
       "    <tr>\n",
       "      <th>...</th>\n",
       "      <td>...</td>\n",
       "      <td>...</td>\n",
       "      <td>...</td>\n",
       "      <td>...</td>\n",
       "    </tr>\n",
       "    <tr>\n",
       "      <th>673</th>\n",
       "      <td>2691</td>\n",
       "      <td>303-36-23664</td>\n",
       "      <td>SPONTANEOUS VAGINAL</td>\n",
       "      <td>2011-12-28T19:01</td>\n",
       "    </tr>\n",
       "    <tr>\n",
       "      <th>674</th>\n",
       "      <td>2695</td>\n",
       "      <td>303-37-13703</td>\n",
       "      <td>CESAREAN SECTION</td>\n",
       "      <td>2012-01-06T06:31</td>\n",
       "    </tr>\n",
       "    <tr>\n",
       "      <th>675</th>\n",
       "      <td>2699</td>\n",
       "      <td>303-37-13704</td>\n",
       "      <td>SPONTANEOUS VAGINAL</td>\n",
       "      <td>2012-01-16T08:34</td>\n",
       "    </tr>\n",
       "    <tr>\n",
       "      <th>676</th>\n",
       "      <td>2703</td>\n",
       "      <td>303-37-13705</td>\n",
       "      <td>SPONTANEOUS VAGINAL</td>\n",
       "      <td>2012-01-21T08:29</td>\n",
       "    </tr>\n",
       "    <tr>\n",
       "      <th>677</th>\n",
       "      <td>2707</td>\n",
       "      <td>303-37-23751</td>\n",
       "      <td>SPONTANEOUS VAGINAL</td>\n",
       "      <td>2011-12-21T16:48</td>\n",
       "    </tr>\n",
       "    <tr>\n",
       "      <th>678</th>\n",
       "      <td>2711</td>\n",
       "      <td>303-37-23752</td>\n",
       "      <td>SPONTANEOUS VAGINAL</td>\n",
       "      <td>2012-01-21T20:41</td>\n",
       "    </tr>\n",
       "    <tr>\n",
       "      <th>679</th>\n",
       "      <td>2715</td>\n",
       "      <td>303-37-23766</td>\n",
       "      <td>SPONTANEOUS VAGINAL</td>\n",
       "      <td>2012-02-03T08:23</td>\n",
       "    </tr>\n",
       "  </tbody>\n",
       "</table>\n",
       "<p>680 rows × 4 columns</p>\n",
       "</div>"
      ],
      "text/plain": [
       "     Unnamed: 0       USUBJID   DD_DELIVERY_METHOD  DD_DELIVERY_TIME\n",
       "0             0  303-01-15001     CESAREAN SECTION  2010-12-02T17:35\n",
       "1             4  303-01-15002     CESAREAN SECTION  2011-01-12T07:58\n",
       "2             8  303-01-15006     CESAREAN SECTION  2011-03-06T13:48\n",
       "3            12  303-01-15007  SPONTANEOUS VAGINAL  2011-04-12T10:47\n",
       "4            16  303-01-15008     CESAREAN SECTION  2011-04-22T00:26\n",
       "5            20  303-01-15011  SPONTANEOUS VAGINAL  2011-07-15T20:07\n",
       "6            24  303-01-15014     CESAREAN SECTION  2011-10-12T13:21\n",
       "..          ...           ...                  ...               ...\n",
       "673        2691  303-36-23664  SPONTANEOUS VAGINAL  2011-12-28T19:01\n",
       "674        2695  303-37-13703     CESAREAN SECTION  2012-01-06T06:31\n",
       "675        2699  303-37-13704  SPONTANEOUS VAGINAL  2012-01-16T08:34\n",
       "676        2703  303-37-13705  SPONTANEOUS VAGINAL  2012-01-21T08:29\n",
       "677        2707  303-37-23751  SPONTANEOUS VAGINAL  2011-12-21T16:48\n",
       "678        2711  303-37-23752  SPONTANEOUS VAGINAL  2012-01-21T20:41\n",
       "679        2715  303-37-23766  SPONTANEOUS VAGINAL  2012-02-03T08:23\n",
       "\n",
       "[680 rows x 4 columns]"
      ]
     },
     "execution_count": 14,
     "metadata": {},
     "output_type": "execute_result"
    }
   ],
   "source": [
    "data['STUD']"
   ]
  }
 ],
 "metadata": {
  "kernelspec": {
   "display_name": "Python 3",
   "language": "python",
   "name": "python3"
  },
  "language_info": {
   "codemirror_mode": {
    "name": "ipython",
    "version": 3
   },
   "file_extension": ".py",
   "mimetype": "text/x-python",
   "name": "python",
   "nbconvert_exporter": "python",
   "pygments_lexer": "ipython3",
   "version": "3.4.5"
  }
 },
 "nbformat": 4,
 "nbformat_minor": 2
}
