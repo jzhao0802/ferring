{
 "cells": [
  {
   "cell_type": "code",
   "execution_count": 12,
   "metadata": {
    "collapsed": true
   },
   "outputs": [],
   "source": [
    "import pandas as pd\n",
    "import set_lib_paths\n",
    "\n",
    "case_study_codes = ['303', '004']\n",
    "merged_file = 'F:/Projects/Ferring/data/pre_modelling/merged_data/MERGED_COUNT_DATE.csv'\n",
    "df = pd.read_csv(merged_file)"
   ]
  },
  {
   "cell_type": "code",
   "execution_count": 18,
   "metadata": {},
   "outputs": [
    {
     "data": {
      "text/plain": [
       "(394, 637)"
      ]
     },
     "execution_count": 18,
     "metadata": {},
     "output_type": "execute_result"
    }
   ],
   "source": [
    "sum(df['STUDY_CODE'] == 4),sum(df['STUDY_CODE'] == 303)"
   ]
  },
  {
   "cell_type": "code",
   "execution_count": 21,
   "metadata": {},
   "outputs": [
    {
     "data": {
      "text/plain": [
       "0       False\n",
       "1       False\n",
       "2       False\n",
       "3       False\n",
       "4       False\n",
       "5       False\n",
       "6       False\n",
       "7       False\n",
       "8       False\n",
       "9       False\n",
       "10      False\n",
       "11      False\n",
       "12      False\n",
       "13      False\n",
       "14      False\n",
       "15      False\n",
       "16      False\n",
       "17      False\n",
       "18      False\n",
       "19      False\n",
       "20      False\n",
       "21      False\n",
       "22      False\n",
       "23      False\n",
       "24      False\n",
       "25      False\n",
       "26      False\n",
       "27      False\n",
       "28      False\n",
       "29      False\n",
       "        ...  \n",
       "1001    False\n",
       "1002    False\n",
       "1003    False\n",
       "1004    False\n",
       "1005    False\n",
       "1006    False\n",
       "1007    False\n",
       "1008    False\n",
       "1009    False\n",
       "1010    False\n",
       "1011    False\n",
       "1012    False\n",
       "1013    False\n",
       "1014    False\n",
       "1015    False\n",
       "1016    False\n",
       "1017    False\n",
       "1018    False\n",
       "1019    False\n",
       "1020    False\n",
       "1021    False\n",
       "1022    False\n",
       "1023    False\n",
       "1024    False\n",
       "1025    False\n",
       "1026    False\n",
       "1027    False\n",
       "1028    False\n",
       "1029    False\n",
       "1030    False\n",
       "Name: AGE, dtype: bool"
      ]
     },
     "execution_count": 21,
     "metadata": {},
     "output_type": "execute_result"
    }
   ],
   "source": [
    "df['AGE']"
   ]
  }
 ],
 "metadata": {
  "kernelspec": {
   "display_name": "Python 3",
   "language": "python",
   "name": "python3"
  },
  "language_info": {
   "codemirror_mode": {
    "name": "ipython",
    "version": 3
   },
   "file_extension": ".py",
   "mimetype": "text/x-python",
   "name": "python",
   "nbconvert_exporter": "python",
   "pygments_lexer": "ipython3",
   "version": "3.4.5"
  }
 },
 "nbformat": 4,
 "nbformat_minor": 2
}
