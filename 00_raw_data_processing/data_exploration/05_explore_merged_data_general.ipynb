{
 "cells": [
  {
   "cell_type": "code",
   "execution_count": 160,
   "metadata": {},
   "outputs": [
    {
     "name": "stdout",
     "output_type": "stream",
     "text": [
      "1111\n"
     ]
    }
   ],
   "source": [
    "import pandas as pd\n",
    "import set_lib_paths\n",
    "import numpy as np\n",
    "import seaborn as sns\n",
    "import copy\n",
    "sns.set()\n",
    "import matplotlib.pyplot as plt\n",
    "import matplotlib.ticker as ticker\n",
    "pd.options.display.max_rows = 15\n",
    "pd.options.display.max_columns = 40\n",
    "case_study_codes = ['303', '004']\n",
    "merged_file = 'F:/Projects/Ferring/data/pre_modelling/merged_data/MERGED_COUNT_DATE.csv'\n",
    "merged_file_final = 'F:/Projects/Ferring/data/pre_modelling/merged_data/PROCESSED_FLATFILE.csv'\n",
    "df_final = pd.read_csv(merged_file_final)\n",
    "df = pd.read_csv(merged_file)\n",
    "#Remove patients that did not complete study...a2\n",
    "df = df[df['COMPLETED'] & ~df['COMPLETED'].isnull()]\n",
    "df['GESTATIONAL_AGE_WEEKS'] = df['GESTATIONAL_AGE_DAYS']/7\n",
    "print (len(df['USUBJID']))"
   ]
  },
  {
   "cell_type": "code",
   "execution_count": 135,
   "metadata": {},
   "outputs": [
    {
     "name": "stdout",
     "output_type": "stream",
     "text": [
      "1111\n"
     ]
    }
   ],
   "source": [
    "print (len(df_final))"
   ]
  },
  {
   "cell_type": "code",
   "execution_count": 22,
   "metadata": {},
   "outputs": [
    {
     "data": {
      "text/plain": [
       "4    2010-11-23T17:02\n",
       "5    2010-11-23T17:02\n",
       "6    2010-11-23T17:02\n",
       "7    2010-11-23T17:02\n",
       "Name: EX_START_TIME, dtype: object"
      ]
     },
     "execution_count": 22,
     "metadata": {},
     "output_type": "execute_result"
    }
   ],
   "source": [
    "df[df['USUBJID'] == '303-09-10921']['EX_START_TIME']"
   ]
  },
  {
   "cell_type": "code",
   "execution_count": 57,
   "metadata": {},
   "outputs": [
    {
     "data": {
      "text/plain": [
       "array(['MHTERM_ASTHMA', 'MHTERM_BIPOLAR_DISORDER', 'MHTERM_CHLAMYDIA',\n",
       "       'MHTERM_DEPRESSION', 'MHTERM_DIABETES', 'MHTERM_GBS_POSITIVE',\n",
       "       'MHTERM_GESTATIONAL_DIABETES', 'MHTERM_GESTATIONAL_HYPERTENSION',\n",
       "       'MHTERM_HYPERTENSION', 'MHTERM_OBESITY', 'MHTERM_OLIGOHYDRAMNIOS',\n",
       "       'MHTERM_PRE_ECLAMPSIA', 'MHTERM_SMOKER',\n",
       "       'MHTERM_URINARY_TRACT_INFECTION'], dtype=object)"
      ]
     },
     "execution_count": 57,
     "metadata": {},
     "output_type": "execute_result"
    }
   ],
   "source": [
    "pd.unique([k.replace('_COUNT', '').replace('_FIRST_EXPDT', '').replace('_LAST_EXPDT', '') for k in df.filter(regex='^MHTERM').keys()])"
   ]
  },
  {
   "cell_type": "code",
   "execution_count": 40,
   "metadata": {},
   "outputs": [
    {
     "data": {
      "text/plain": [
       "'a|b'"
      ]
     },
     "execution_count": 40,
     "metadata": {},
     "output_type": "execute_result"
    }
   ],
   "source": [
    "'|'.join({'a':1, 'b':2}.keys())"
   ]
  },
  {
   "cell_type": "code",
   "execution_count": 128,
   "metadata": {},
   "outputs": [],
   "source": [
    "df_counts = df.filter(regex=\"^MHTERM\").filter(regex='COUNT$')\n",
    "df_counts = df_counts.applymap(lambda x: 1 if x>=1 else 0)\n"
   ]
  },
  {
   "cell_type": "code",
   "execution_count": 129,
   "metadata": {},
   "outputs": [
    {
     "name": "stdout",
     "output_type": "stream",
     "text": [
      "GBS_POSITIVE\t96\t22.27%\n",
      "ANEMIA\t81\t18.79%\n",
      "ASTHMA\t51\t11.83%\n",
      "DEPRESSION\t48\t11.14%\n",
      "OBESITY\t45\t10.44%\n",
      "GESTATIONAL_DIABETES\t42\t9.74%\n",
      "OLIGOHYDRAMNIOS\t40\t9.28%\n",
      "URINARY_TRACT_INFECTION\t37\t8.58%\n",
      "PRE_ECLAMPSIA\t35\t8.12%\n",
      "HYPERTENSION\t35\t8.12%\n",
      "CHLAMYDIA\t26\t6.03%\n",
      "GESTATIONAL_HYPERTENSION\t24\t5.57%\n",
      "SMOKER\t14\t3.25%\n",
      "YEAST_INFECTION\t12\t2.78%\n",
      "HERPES\t12\t2.78%\n",
      "DIABETES\t11\t2.55%\n",
      "BIPOLAR_DISORDER\t9\t2.09%\n",
      "ANXIETY\t9\t2.09%\n",
      "BACTERIAL_VAGINOSIS\t6\t1.39%\n",
      "DECREASED_FETAL_MOVEMENT\t2\t0.46%\n",
      "PRE_ECLAMPSIA_PRIOR_PREGNANCY\t2\t0.46%\n",
      "LARGE_BABY\t1\t0.23%\n",
      "FETAL_MACROSOMIA\t1\t0.23%\n",
      "SMALL_FOR_GESTATIONAL_AGE\t1\t0.23%\n",
      "GESTATIONAL_DIABETES_PREV_PREG\t1\t0.23%\n",
      "POST_TERM_PREGNANCY\t0\t0.00%\n"
     ]
    }
   ],
   "source": [
    "tmp = [print ('%s\\t%i\\t%.2f%%'%(k.replace('MHTERM_', '').replace('_COUNT', ''), v, 100*v/len(df[df['STUDY_CODE'] == 4]))) for k,v in df_counts[df['STUDY_CODE'] == 4].filter(regex=\"^MHTERM\").filter(regex='COUNT$').sum().sort_values(ascending=False)[0:50].items()]"
   ]
  },
  {
   "cell_type": "code",
   "execution_count": 130,
   "metadata": {},
   "outputs": [
    {
     "name": "stdout",
     "output_type": "stream",
     "text": [
      "GBS_POSITIVE\t191\t28.09%\n",
      "ANEMIA\t157\t23.09%\n",
      "OBESITY\t138\t20.29%\n",
      "ASTHMA\t75\t11.03%\n",
      "URINARY_TRACT_INFECTION\t63\t9.26%\n",
      "SMOKER\t63\t9.26%\n",
      "CHLAMYDIA\t63\t9.26%\n",
      "DEPRESSION\t54\t7.94%\n",
      "POST_TERM_PREGNANCY\t36\t5.29%\n",
      "ANXIETY\t33\t4.85%\n",
      "YEAST_INFECTION\t33\t4.85%\n",
      "GESTATIONAL_DIABETES\t31\t4.56%\n",
      "HERPES\t26\t3.82%\n",
      "HYPERTENSION\t24\t3.53%\n",
      "BACTERIAL_VAGINOSIS\t24\t3.53%\n",
      "GESTATIONAL_HYPERTENSION\t22\t3.24%\n",
      "BIPOLAR_DISORDER\t14\t2.06%\n",
      "SMALL_FOR_GESTATIONAL_AGE\t12\t1.76%\n",
      "DECREASED_FETAL_MOVEMENT\t11\t1.62%\n",
      "DIABETES\t10\t1.47%\n",
      "OLIGOHYDRAMNIOS\t10\t1.47%\n",
      "PRE_ECLAMPSIA\t7\t1.03%\n",
      "FETAL_MACROSOMIA\t6\t0.88%\n",
      "LARGE_BABY\t1\t0.15%\n",
      "PRE_ECLAMPSIA_PRIOR_PREGNANCY\t0\t0.00%\n",
      "GESTATIONAL_DIABETES_PREV_PREG\t0\t0.00%\n"
     ]
    }
   ],
   "source": [
    "tmp = [print ('%s\\t%i\\t%.2f%%'%(k.replace('MHTERM_', '').replace('_COUNT', ''), v, 100*v/len(df[df['STUDY_CODE'] == 303]))) for k,v in df_counts[df['STUDY_CODE'] == 303].filter(regex=\"^MHTERM\").filter(regex='COUNT$').sum().sort_values(ascending=False)[0:50].items()]\n",
    "#print (\"\\n\".join(order_004[:50]))"
   ]
  },
  {
   "cell_type": "code",
   "execution_count": 131,
   "metadata": {},
   "outputs": [
    {
     "name": "stdout",
     "output_type": "stream",
     "text": [
      "GBS_POSITIVE\t25.83%\n",
      "ANEMIA\t21.42%\n",
      "OBESITY\t16.47%\n",
      "ASTHMA\t11.34%\n",
      "DEPRESSION\t9.18%\n",
      "URINARY_TRACT_INFECTION\t9.00%\n",
      "CHLAMYDIA\t8.01%\n",
      "SMOKER\t6.93%\n",
      "GESTATIONAL_DIABETES\t6.57%\n",
      "HYPERTENSION\t5.31%\n",
      "OLIGOHYDRAMNIOS\t4.50%\n",
      "GESTATIONAL_HYPERTENSION\t4.14%\n",
      "YEAST_INFECTION\t4.05%\n",
      "PRE_ECLAMPSIA\t3.78%\n",
      "ANXIETY\t3.78%\n",
      "HERPES\t3.42%\n",
      "POST_TERM_PREGNANCY\t3.24%\n",
      "BACTERIAL_VAGINOSIS\t2.70%\n",
      "BIPOLAR_DISORDER\t2.07%\n",
      "DIABETES\t1.89%\n",
      "DECREASED_FETAL_MOVEMENT\t1.17%\n",
      "SMALL_FOR_GESTATIONAL_AGE\t1.17%\n",
      "FETAL_MACROSOMIA\t0.63%\n",
      "LARGE_BABY\t0.18%\n",
      "PRE_ECLAMPSIA_PRIOR_PREGNANCY\t0.18%\n",
      "GESTATIONAL_DIABETES_PREV_PREG\t0.09%\n"
     ]
    }
   ],
   "source": [
    "tmp = [print ('%s\\t%.2f%%'%(k.replace('MHTERM_', '').replace('_COUNT', ''), 100*v/len(df))) for k,v in df_counts.filter(regex=\"^MHTERM\").filter(regex='COUNT$').sum().sort_values(ascending=False)[0:50].items()]"
   ]
  },
  {
   "cell_type": "code",
   "execution_count": 101,
   "metadata": {},
   "outputs": [
    {
     "data": {
      "text/html": [
       "<div>\n",
       "<style scoped>\n",
       "    .dataframe tbody tr th:only-of-type {\n",
       "        vertical-align: middle;\n",
       "    }\n",
       "\n",
       "    .dataframe tbody tr th {\n",
       "        vertical-align: top;\n",
       "    }\n",
       "\n",
       "    .dataframe thead th {\n",
       "        text-align: right;\n",
       "    }\n",
       "</style>\n",
       "<table border=\"1\" class=\"dataframe\">\n",
       "  <thead>\n",
       "    <tr style=\"text-align: right;\">\n",
       "      <th></th>\n",
       "      <th>index</th>\n",
       "      <th>0</th>\n",
       "    </tr>\n",
       "  </thead>\n",
       "  <tbody>\n",
       "    <tr>\n",
       "      <th>0</th>\n",
       "      <td>MHTERM_GBS_POSITIVE_COUNT</td>\n",
       "      <td>287</td>\n",
       "    </tr>\n",
       "    <tr>\n",
       "      <th>1</th>\n",
       "      <td>MHTERM_ANEMIA_COUNT</td>\n",
       "      <td>238</td>\n",
       "    </tr>\n",
       "    <tr>\n",
       "      <th>2</th>\n",
       "      <td>MHTERM_OBESITY_COUNT</td>\n",
       "      <td>183</td>\n",
       "    </tr>\n",
       "    <tr>\n",
       "      <th>3</th>\n",
       "      <td>MHTERM_ASTHMA_COUNT</td>\n",
       "      <td>126</td>\n",
       "    </tr>\n",
       "    <tr>\n",
       "      <th>4</th>\n",
       "      <td>MHTERM_DEPRESSION_COUNT</td>\n",
       "      <td>102</td>\n",
       "    </tr>\n",
       "    <tr>\n",
       "      <th>5</th>\n",
       "      <td>MHTERM_URINARY_TRACT_INFECTION_COUNT</td>\n",
       "      <td>100</td>\n",
       "    </tr>\n",
       "    <tr>\n",
       "      <th>6</th>\n",
       "      <td>MHTERM_CHLAMYDIA_COUNT</td>\n",
       "      <td>89</td>\n",
       "    </tr>\n",
       "    <tr>\n",
       "      <th>...</th>\n",
       "      <td>...</td>\n",
       "      <td>...</td>\n",
       "    </tr>\n",
       "    <tr>\n",
       "      <th>19</th>\n",
       "      <td>MHTERM_DIABETES_COUNT</td>\n",
       "      <td>21</td>\n",
       "    </tr>\n",
       "    <tr>\n",
       "      <th>20</th>\n",
       "      <td>MHTERM_DECREASED_FETAL_MOVEMENT_COUNT</td>\n",
       "      <td>13</td>\n",
       "    </tr>\n",
       "    <tr>\n",
       "      <th>21</th>\n",
       "      <td>MHTERM_SMALL_FOR_GESTATIONAL_AGE_COUNT</td>\n",
       "      <td>13</td>\n",
       "    </tr>\n",
       "    <tr>\n",
       "      <th>22</th>\n",
       "      <td>MHTERM_FETAL_MACROSOMIA_COUNT</td>\n",
       "      <td>7</td>\n",
       "    </tr>\n",
       "    <tr>\n",
       "      <th>23</th>\n",
       "      <td>MHTERM_LARGE_BABY_COUNT</td>\n",
       "      <td>2</td>\n",
       "    </tr>\n",
       "    <tr>\n",
       "      <th>24</th>\n",
       "      <td>MHTERM_PRE_ECLAMPSIA_PRIOR_PREGNANCY_COUNT</td>\n",
       "      <td>2</td>\n",
       "    </tr>\n",
       "    <tr>\n",
       "      <th>25</th>\n",
       "      <td>MHTERM_GESTATIONAL_DIABETES_PREV_PREG_COUNT</td>\n",
       "      <td>1</td>\n",
       "    </tr>\n",
       "  </tbody>\n",
       "</table>\n",
       "<p>26 rows × 2 columns</p>\n",
       "</div>"
      ],
      "text/plain": [
       "                                          index    0\n",
       "0                     MHTERM_GBS_POSITIVE_COUNT  287\n",
       "1                           MHTERM_ANEMIA_COUNT  238\n",
       "2                          MHTERM_OBESITY_COUNT  183\n",
       "3                           MHTERM_ASTHMA_COUNT  126\n",
       "4                       MHTERM_DEPRESSION_COUNT  102\n",
       "5          MHTERM_URINARY_TRACT_INFECTION_COUNT  100\n",
       "6                        MHTERM_CHLAMYDIA_COUNT   89\n",
       "..                                          ...  ...\n",
       "19                        MHTERM_DIABETES_COUNT   21\n",
       "20        MHTERM_DECREASED_FETAL_MOVEMENT_COUNT   13\n",
       "21       MHTERM_SMALL_FOR_GESTATIONAL_AGE_COUNT   13\n",
       "22                MHTERM_FETAL_MACROSOMIA_COUNT    7\n",
       "23                      MHTERM_LARGE_BABY_COUNT    2\n",
       "24   MHTERM_PRE_ECLAMPSIA_PRIOR_PREGNANCY_COUNT    2\n",
       "25  MHTERM_GESTATIONAL_DIABETES_PREV_PREG_COUNT    1\n",
       "\n",
       "[26 rows x 2 columns]"
      ]
     },
     "execution_count": 101,
     "metadata": {},
     "output_type": "execute_result"
    }
   ],
   "source": [
    "(df_counts.filter(regex=\"^MHTERM\").filter(regex='COUNT$')>0).sum().sort_values(ascending=False).reset_index()"
   ]
  },
  {
   "cell_type": "code",
   "execution_count": 105,
   "metadata": {},
   "outputs": [],
   "source": [
    "df_MH = df.filter(regex='^MHTERM|USUBJID').filter(regex='COUNT$|USUBJID').set_index(['USUBJID'])\n",
    "df_CM = df.filter(regex='^CMINDC|USUBJID').filter(regex='COUNT$|USUBJID').rename(columns=lambda x: x.replace('CMINDC_', 'MHTERM_')).set_index(['USUBJID'])"
   ]
  },
  {
   "cell_type": "code",
   "execution_count": 106,
   "metadata": {},
   "outputs": [],
   "source": [
    "df_MH[df_MH.isnull()] = 0\n",
    "df_CM[df_CM.isnull()] = 0"
   ]
  },
  {
   "cell_type": "code",
   "execution_count": 107,
   "metadata": {},
   "outputs": [],
   "source": [
    "cm_keys_add = set(df_MH.keys()) - set(df_CM.keys())\n"
   ]
  },
  {
   "cell_type": "code",
   "execution_count": 108,
   "metadata": {},
   "outputs": [],
   "source": [
    "for k in cm_keys_add:df_CM[k] = 0"
   ]
  },
  {
   "cell_type": "code",
   "execution_count": 109,
   "metadata": {},
   "outputs": [],
   "source": [
    "mh_keys_add = set(df_CM.keys()) - set(df_MH.keys())"
   ]
  },
  {
   "cell_type": "code",
   "execution_count": 110,
   "metadata": {},
   "outputs": [
    {
     "data": {
      "text/plain": [
       "90.0"
      ]
     },
     "execution_count": 110,
     "metadata": {},
     "output_type": "execute_result"
    }
   ],
   "source": [
    "(df_MH+df_CM)['MHTERM_CHLAMYDIA_COUNT'].sum()"
   ]
  },
  {
   "cell_type": "code",
   "execution_count": 116,
   "metadata": {},
   "outputs": [
    {
     "data": {
      "text/plain": [
       "0       True\n",
       "1       True\n",
       "2       True\n",
       "3       True\n",
       "4       True\n",
       "5       True\n",
       "6       True\n",
       "        ... \n",
       "1107    True\n",
       "1108    True\n",
       "1109    True\n",
       "1110    True\n",
       "1111    True\n",
       "1112    True\n",
       "1113    True\n",
       "Name: COMPLETED, Length: 1111, dtype: object"
      ]
     },
     "execution_count": 116,
     "metadata": {},
     "output_type": "execute_result"
    }
   ],
   "source": [
    "df.filter(regex='(?=^((?!COUNT).)*$)').filter(regex='(?=^((?!CMINDC).)*$)')['COMPLETED']"
   ]
  },
  {
   "cell_type": "code",
   "execution_count": 117,
   "metadata": {},
   "outputs": [
    {
     "data": {
      "text/html": [
       "<div>\n",
       "<style scoped>\n",
       "    .dataframe tbody tr th:only-of-type {\n",
       "        vertical-align: middle;\n",
       "    }\n",
       "\n",
       "    .dataframe tbody tr th {\n",
       "        vertical-align: top;\n",
       "    }\n",
       "\n",
       "    .dataframe thead th {\n",
       "        text-align: right;\n",
       "    }\n",
       "</style>\n",
       "<table border=\"1\" class=\"dataframe\">\n",
       "  <thead>\n",
       "    <tr style=\"text-align: right;\">\n",
       "      <th></th>\n",
       "      <th>DD_DELIVERY_TIME</th>\n",
       "      <th>DELIVERY</th>\n",
       "      <th>MODE_OF_DELIVERY</th>\n",
       "    </tr>\n",
       "  </thead>\n",
       "  <tbody>\n",
       "    <tr>\n",
       "      <th>0</th>\n",
       "      <td>NaN</td>\n",
       "      <td>2010-12-02T17:35</td>\n",
       "      <td>NaN</td>\n",
       "    </tr>\n",
       "    <tr>\n",
       "      <th>1</th>\n",
       "      <td>NaN</td>\n",
       "      <td>2011-01-12T07:58</td>\n",
       "      <td>NaN</td>\n",
       "    </tr>\n",
       "    <tr>\n",
       "      <th>2</th>\n",
       "      <td>NaN</td>\n",
       "      <td>2011-03-06T13:48</td>\n",
       "      <td>NaN</td>\n",
       "    </tr>\n",
       "    <tr>\n",
       "      <th>3</th>\n",
       "      <td>NaN</td>\n",
       "      <td>2011-04-12T10:47</td>\n",
       "      <td>NaN</td>\n",
       "    </tr>\n",
       "    <tr>\n",
       "      <th>4</th>\n",
       "      <td>NaN</td>\n",
       "      <td>2011-04-22T00:26</td>\n",
       "      <td>NaN</td>\n",
       "    </tr>\n",
       "    <tr>\n",
       "      <th>5</th>\n",
       "      <td>NaN</td>\n",
       "      <td>2011-07-15T20:07</td>\n",
       "      <td>NaN</td>\n",
       "    </tr>\n",
       "    <tr>\n",
       "      <th>6</th>\n",
       "      <td>NaN</td>\n",
       "      <td>2011-10-12T13:21</td>\n",
       "      <td>NaN</td>\n",
       "    </tr>\n",
       "    <tr>\n",
       "      <th>...</th>\n",
       "      <td>...</td>\n",
       "      <td>...</td>\n",
       "      <td>...</td>\n",
       "    </tr>\n",
       "    <tr>\n",
       "      <th>1107</th>\n",
       "      <td>NaN</td>\n",
       "      <td>2007-06-08T10:23:00</td>\n",
       "      <td>NaN</td>\n",
       "    </tr>\n",
       "    <tr>\n",
       "      <th>1108</th>\n",
       "      <td>NaN</td>\n",
       "      <td>2007-06-28T00:03:00</td>\n",
       "      <td>NaN</td>\n",
       "    </tr>\n",
       "    <tr>\n",
       "      <th>1109</th>\n",
       "      <td>NaN</td>\n",
       "      <td>2007-04-20T01:31:00</td>\n",
       "      <td>NaN</td>\n",
       "    </tr>\n",
       "    <tr>\n",
       "      <th>1110</th>\n",
       "      <td>NaN</td>\n",
       "      <td>2007-04-20T22:25:00</td>\n",
       "      <td>NaN</td>\n",
       "    </tr>\n",
       "    <tr>\n",
       "      <th>1111</th>\n",
       "      <td>NaN</td>\n",
       "      <td>2007-05-03T19:21:00</td>\n",
       "      <td>NaN</td>\n",
       "    </tr>\n",
       "    <tr>\n",
       "      <th>1112</th>\n",
       "      <td>NaN</td>\n",
       "      <td>2007-05-16T10:11:00</td>\n",
       "      <td>NaN</td>\n",
       "    </tr>\n",
       "    <tr>\n",
       "      <th>1113</th>\n",
       "      <td>NaN</td>\n",
       "      <td>2007-06-26T18:21:00</td>\n",
       "      <td>NaN</td>\n",
       "    </tr>\n",
       "  </tbody>\n",
       "</table>\n",
       "<p>1111 rows × 3 columns</p>\n",
       "</div>"
      ],
      "text/plain": [
       "      DD_DELIVERY_TIME             DELIVERY  MODE_OF_DELIVERY\n",
       "0                  NaN     2010-12-02T17:35               NaN\n",
       "1                  NaN     2011-01-12T07:58               NaN\n",
       "2                  NaN     2011-03-06T13:48               NaN\n",
       "3                  NaN     2011-04-12T10:47               NaN\n",
       "4                  NaN     2011-04-22T00:26               NaN\n",
       "5                  NaN     2011-07-15T20:07               NaN\n",
       "6                  NaN     2011-10-12T13:21               NaN\n",
       "...                ...                  ...               ...\n",
       "1107               NaN  2007-06-08T10:23:00               NaN\n",
       "1108               NaN  2007-06-28T00:03:00               NaN\n",
       "1109               NaN  2007-04-20T01:31:00               NaN\n",
       "1110               NaN  2007-04-20T22:25:00               NaN\n",
       "1111               NaN  2007-05-03T19:21:00               NaN\n",
       "1112               NaN  2007-05-16T10:11:00               NaN\n",
       "1113               NaN  2007-06-26T18:21:00               NaN\n",
       "\n",
       "[1111 rows x 3 columns]"
      ]
     },
     "execution_count": 117,
     "metadata": {},
     "output_type": "execute_result"
    }
   ],
   "source": [
    "df.filter(regex='DELIVERY')"
   ]
  },
  {
   "cell_type": "code",
   "execution_count": 140,
   "metadata": {},
   "outputs": [],
   "source": [
    "df_counts=(df_MH+df_CM)"
   ]
  },
  {
   "cell_type": "code",
   "execution_count": 143,
   "metadata": {},
   "outputs": [],
   "source": [
    "df_counts[df_counts > 0] = 1"
   ]
  },
  {
   "cell_type": "code",
   "execution_count": 161,
   "metadata": {},
   "outputs": [
    {
     "data": {
      "text/plain": [
       "['Unnamed: 0',\n",
       " 'ACTIVE_LABOUR_TIME',\n",
       " 'AGE',\n",
       " 'APGAR_SCORE_1_MINUTE',\n",
       " 'APGAR_SCORE_5_MINUTE',\n",
       " 'BIRTH_WEIGHT',\n",
       " 'BMI',\n",
       " 'BS_12',\n",
       " 'BS_18',\n",
       " 'BS_24',\n",
       " 'BS_6',\n",
       " 'BS_BASELINE',\n",
       " 'COMPLETED',\n",
       " 'COUNTRY',\n",
       " 'COUNTRY_dummy_CAN',\n",
       " 'COUNTRY_dummy_USA',\n",
       " 'DD_DELIVERY_TIME',\n",
       " 'DISCHARGE_TIME',\n",
       " 'EX_END_TIME',\n",
       " 'EX_START_TIME',\n",
       " 'GESTATIONAL_AGE_DAYS',\n",
       " 'HEIGHT',\n",
       " 'MODE_OF_DELIVERY',\n",
       " 'OXYTOCIN_ADMINISTERED',\n",
       " 'OXYTOCIN_ADMINISTRATION_TIME',\n",
       " 'OXYTOCIN_DOSAGE',\n",
       " 'PREGTYPE_NULLIPAROUS',\n",
       " 'PREGTYPE_PAROUS',\n",
       " 'RACE',\n",
       " 'RACE_PROCESSED',\n",
       " 'RACE_RAW',\n",
       " 'RACE_dummy_ASIAN',\n",
       " 'RACE_dummy_BLACK_OR_AFRICAN_AMERICAN',\n",
       " 'RACE_dummy_HISPANIC',\n",
       " 'RACE_dummy_OTHER',\n",
       " 'RACE_dummy_WHITE',\n",
       " 'STUDY_CODE',\n",
       " 'SUBJID',\n",
       " 'USUBJID',\n",
       " 'WEIGHT',\n",
       " 'MHTERM_ANEMIA_FLAG',\n",
       " 'MHTERM_ANXIETY_FLAG',\n",
       " 'MHTERM_ASTHMA_FLAG',\n",
       " 'MHTERM_BACTERIAL_VAGINOSIS_FLAG',\n",
       " 'MHTERM_BIPOLAR_DISORDER_FLAG',\n",
       " 'MHTERM_CHLAMYDIA_FLAG',\n",
       " 'MHTERM_DECREASED_FETAL_MOVEMENT_FLAG',\n",
       " 'MHTERM_DEPRESSION_FLAG',\n",
       " 'MHTERM_DIABETES_FLAG',\n",
       " 'MHTERM_FETAL_MACROSOMIA_FLAG',\n",
       " 'MHTERM_GBS_POSITIVE_FLAG',\n",
       " 'MHTERM_GESTATIONAL_DIABETES_FLAG',\n",
       " 'MHTERM_GESTATIONAL_DIABETES_PREV_PREG_FLAG',\n",
       " 'MHTERM_GESTATIONAL_HYPERTENSION_FLAG',\n",
       " 'MHTERM_HERPES_FLAG',\n",
       " 'MHTERM_HYPERTENSION_FLAG',\n",
       " 'MHTERM_LARGE_BABY_FLAG',\n",
       " 'MHTERM_OBESITY_FLAG',\n",
       " 'MHTERM_OLIGOHYDRAMNIOS_FLAG',\n",
       " 'MHTERM_POST_TERM_PREGNANCY_FLAG',\n",
       " 'MHTERM_PRE_ECLAMPSIA_FLAG',\n",
       " 'MHTERM_PRE_ECLAMPSIA_PRIOR_PREGNANCY_FLAG',\n",
       " 'MHTERM_SMALL_FOR_GESTATIONAL_AGE_FLAG',\n",
       " 'MHTERM_SMOKER_FLAG',\n",
       " 'MHTERM_URINARY_TRACT_INFECTION_FLAG',\n",
       " 'MHTERM_YEAST_INFECTION_FLAG',\n",
       " 'TIME_DELTA_EX_START_OXYTOCIN_ADMIN',\n",
       " 'TIME_DELTA_EX_START_ONSET_LABOUR',\n",
       " 'LABEL']"
      ]
     },
     "execution_count": 161,
     "metadata": {},
     "output_type": "execute_result"
    }
   ],
   "source": [
    "list(df_final.keys())"
   ]
  },
  {
   "cell_type": "code",
   "execution_count": 157,
   "metadata": {},
   "outputs": [
    {
     "data": {
      "text/plain": [
       "True"
      ]
     },
     "execution_count": 157,
     "metadata": {},
     "output_type": "execute_result"
    }
   ],
   "source": [
    "\n"
   ]
  }
 ],
 "metadata": {
  "kernelspec": {
   "display_name": "Python 3",
   "language": "python",
   "name": "python3"
  },
  "language_info": {
   "codemirror_mode": {
    "name": "ipython",
    "version": 3
   },
   "file_extension": ".py",
   "mimetype": "text/x-python",
   "name": "python",
   "nbconvert_exporter": "python",
   "pygments_lexer": "ipython3",
   "version": "3.6.3"
  }
 },
 "nbformat": 4,
 "nbformat_minor": 2
}
