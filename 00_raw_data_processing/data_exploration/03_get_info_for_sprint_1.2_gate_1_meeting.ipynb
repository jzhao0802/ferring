{
 "cells": [
  {
   "cell_type": "code",
   "execution_count": 27,
   "metadata": {},
   "outputs": [
    {
     "name": "stderr",
     "output_type": "stream",
     "text": [
      "C:\\ProgramData\\Anaconda3\\lib\\site-packages\\IPython\\core\\interactiveshell.py:2728: DtypeWarning: Columns (2566) have mixed types. Specify dtype option on import or set low_memory=False.\n",
      "  interactivity=interactivity, compiler=compiler, result=result)\n"
     ]
    }
   ],
   "source": [
    "import pandas as pd\n",
    "import set_lib_paths\n",
    "import numpy as np\n",
    "import seaborn as sns\n",
    "sns.set()\n",
    "import matplotlib.pyplot as plt\n",
    "import matplotlib.ticker as ticker\n",
    "pd.options.display.max_rows = 15\n",
    "pd.options.display.max_columns = 40\n",
    "case_study_codes = ['303', '004']\n",
    "merged_file = 'F:/Projects/Ferring/data/pre_modelling/merged_data/MERGED_COUNT_DATE.csv'\n",
    "df = pd.read_csv(merged_file)"
   ]
  },
  {
   "cell_type": "code",
   "execution_count": 10,
   "metadata": {},
   "outputs": [
    {
     "data": {
      "text/plain": [
       "['Unnamed: 0',\n",
       " 'AGE',\n",
       " 'BMI',\n",
       " 'BS_12',\n",
       " 'BS_18',\n",
       " 'BS_24',\n",
       " 'BS_6',\n",
       " 'BS_BASELINE',\n",
       " 'COUNTRY_CAN',\n",
       " 'COUNTRY_USA',\n",
       " 'DD_DELIVERY_METHOD',\n",
       " 'DD_DELIVERY_TIME',\n",
       " 'GESTATIONAL_AGE_DAYS',\n",
       " 'OXYTOCIN_ADMINISTERED',\n",
       " 'OXYTOCIN_DOSAGE',\n",
       " 'PREGTYPE_NULLIPAROUS',\n",
       " 'PREGTYPE_PAROUS',\n",
       " 'STUDY_CODE',\n",
       " 'SUBJID',\n",
       " 'USUBJID',\n",
       " 'Unnamed: 0.1',\n",
       " 'Unnamed: 0_x',\n",
       " 'Unnamed: 0_x.1',\n",
       " 'Unnamed: 0_x.2',\n",
       " 'Unnamed: 0_x.3',\n",
       " 'Unnamed: 0_y',\n",
       " 'Unnamed: 0_y.1',\n",
       " 'Unnamed: 0_y.2',\n",
       " 'Unnamed: 0_y.3',\n",
       " 'WEIGHT']"
      ]
     },
     "execution_count": 10,
     "metadata": {},
     "output_type": "execute_result"
    }
   ],
   "source": [
    "list(df.filter(regex='^[^MHTERM]').keys())"
   ]
  },
  {
   "cell_type": "code",
   "execution_count": 43,
   "metadata": {},
   "outputs": [
    {
     "data": {
      "text/plain": [
       "<matplotlib.axes._subplots.AxesSubplot at 0xebd7471390>"
      ]
     },
     "execution_count": 43,
     "metadata": {},
     "output_type": "execute_result"
    },
    {
     "data": {
      "image/png": "[encoded data removed]",
      "text/plain": [
       "<matplotlib.figure.Figure at 0xebd74d6e10>"
      ]
     },
     "metadata": {},
     "output_type": "display_data"
    }
   ],
   "source": [
    "plt.clf()\n",
    "#sns.distplot(df['GESTATIONAL_AGE_DAYS'][df['STUDY_CODE'] == 303].dropna(), kde=False)\n",
    "sns.distplot(df['BS_BASELINE'].dropna(), kde=False, bins=range(12))\n"
   ]
  },
  {
   "cell_type": "code",
   "execution_count": 44,
   "metadata": {},
   "outputs": [
    {
     "data": {
      "text/plain": [
       "<matplotlib.axes._subplots.AxesSubplot at 0xebd74eca58>"
      ]
     },
     "execution_count": 44,
     "metadata": {},
     "output_type": "execute_result"
    },
    {
     "data": {
      "image/png": "[encoded data removed]",
      "text/plain": [
       "<matplotlib.figure.Figure at 0xebd7549940>"
      ]
     },
     "metadata": {},
     "output_type": "display_data"
    }
   ],
   "source": [
    "sns.distplot(df['AGE'].dropna(), kde=False)\n"
   ]
  }
 ],
 "metadata": {
  "kernelspec": {
   "display_name": "Python 3",
   "language": "python",
   "name": "python3"
  },
  "language_info": {
   "codemirror_mode": {
    "name": "ipython",
    "version": 3
   },
   "file_extension": ".py",
   "mimetype": "text/x-python",
   "name": "python",
   "nbconvert_exporter": "python",
   "pygments_lexer": "ipython3",
   "version": "3.6.3"
  }
 },
 "nbformat": 4,
 "nbformat_minor": 2
}
