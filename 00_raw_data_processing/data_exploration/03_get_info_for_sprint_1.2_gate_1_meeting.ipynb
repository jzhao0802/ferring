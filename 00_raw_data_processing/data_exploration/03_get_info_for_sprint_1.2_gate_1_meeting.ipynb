{
 "cells": [
  {
   "cell_type": "code",
   "execution_count": 2,
   "metadata": {},
   "outputs": [
    {
     "name": "stdout",
     "output_type": "stream",
     "text": [
      "4443\n"
     ]
    },
    {
     "name": "stderr",
     "output_type": "stream",
     "text": [
      "C:\\ProgramData\\Anaconda3\\lib\\site-packages\\IPython\\core\\interactiveshell.py:2728: DtypeWarning: Columns (5,6,8,9,11,12,15,16,18,19,31,2594) have mixed types. Specify dtype option on import or set low_memory=False.\n",
      "  interactivity=interactivity, compiler=compiler, result=result)\n"
     ]
    }
   ],
   "source": [
    "import pandas as pd\n",
    "import set_lib_paths\n",
    "import numpy as np\n",
    "import seaborn as sns\n",
    "import copy\n",
    "sns.set()\n",
    "import matplotlib.pyplot as plt\n",
    "import matplotlib.ticker as ticker\n",
    "pd.options.display.max_rows = 15\n",
    "pd.options.display.max_columns = 40\n",
    "case_study_codes = ['303', '004']\n",
    "merged_file = 'F:/Projects/Ferring/data/pre_modelling/merged_data/MERGED_COUNT_DATE.csv'\n",
    "df = pd.read_csv(merged_file)\n",
    "#Remove patients that did not complete study...a2\n",
    "df = df[df['COMPLETED'] & ~df['COMPLETED'].isnull()]\n",
    "df['GESTATIONAL_AGE_WEEKS'] = df['GESTATIONAL_AGE_DAYS']/7\n",
    "print (len(df))"
   ]
  },
  {
   "cell_type": "code",
   "execution_count": 171,
   "metadata": {},
   "outputs": [],
   "source": [
    "df.loc[df['MODE_OF_DELIVERY'].str.contains('VAGINAL'), 'MODE_OF_DELIVERY'] = 'VAGINAL'\n",
    "\n"
   ]
  },
  {
   "cell_type": "code",
   "execution_count": 175,
   "metadata": {},
   "outputs": [
    {
     "data": {
      "text/plain": [
       "0       CESAREAN SECTION\n",
       "1       CESAREAN SECTION\n",
       "2       CESAREAN SECTION\n",
       "3                VAGINAL\n",
       "4       CESAREAN SECTION\n",
       "5                VAGINAL\n",
       "6       CESAREAN SECTION\n",
       "              ...       \n",
       "1107             VAGINAL\n",
       "1108    CESAREAN SECTION\n",
       "1109             VAGINAL\n",
       "1110    CESAREAN SECTION\n",
       "1111             VAGINAL\n",
       "1112             VAGINAL\n",
       "1113    CESAREAN SECTION\n",
       "Name: DD_DELIVERY_METHOD, Length: 1111, dtype: object"
      ]
     },
     "execution_count": 175,
     "metadata": {},
     "output_type": "execute_result"
    }
   ],
   "source": [
    "df['MODE_OF_DELIVERY']"
   ]
  },
  {
   "cell_type": "code",
   "execution_count": 104,
   "metadata": {},
   "outputs": [
    {
     "data": {
      "text/plain": [
       "STUDY_CODE  RACE    \n",
       "4           ASIAN        1.077199\n",
       "            BLACK/AA     7.540395\n",
       "            HISPANIC    11.131059\n",
       "            OTHER        1.526032\n",
       "            WHITE       17.414722\n",
       "303         ASIAN        1.256732\n",
       "            BLACK/AA    19.030521\n",
       "            HISPANIC    12.387792\n",
       "            OTHER        1.705566\n",
       "            WHITE       26.660682\n",
       "dtype: float64"
      ]
     },
     "execution_count": 104,
     "metadata": {},
     "output_type": "execute_result"
    }
   ],
   "source": [
    "df.groupby(['STUDY_CODE', col]).size().apply(lambda x:100*(x/1114))"
   ]
  },
  {
   "cell_type": "code",
   "execution_count": 137,
   "metadata": {},
   "outputs": [
    {
     "data": {
      "text/plain": [
       "25.915391539153916"
      ]
     },
     "execution_count": 137,
     "metadata": {},
     "output_type": "execute_result"
    }
   ],
   "source": [
    "df['AGE'].mean()"
   ]
  },
  {
   "cell_type": "code",
   "execution_count": 96,
   "metadata": {},
   "outputs": [
    {
     "name": "stdout",
     "output_type": "stream",
     "text": [
      "724     004-06-1060223\n",
      "729     004-06-2060240\n",
      "731     004-06-2060246\n",
      "1114    004-06-1060227\n",
      "1115    004-32-2321339\n",
      "Name: USUBJID, dtype: object\n",
      "729     004-06-2060240\n",
      "731     004-06-2060246\n",
      "1114    004-06-1060227\n",
      "1115    004-32-2321339\n",
      "Name: USUBJID, dtype: object\n"
     ]
    }
   ],
   "source": [
    "print(df[df['COMPLETED'].isnull()]['USUBJID'])\n",
    "print(df[df['DD_DELIVERY_TIME'].isnull()]['USUBJID'])"
   ]
  },
  {
   "cell_type": "code",
   "execution_count": 32,
   "metadata": {},
   "outputs": [
    {
     "data": {
      "text/plain": [
       "[(0.29803921568627451, 0.44705882352941179, 0.69019607843137254),\n",
       " (0.33333333333333331, 0.6588235294117647, 0.40784313725490196),\n",
       " (0.7686274509803922, 0.30588235294117649, 0.32156862745098042),\n",
       " (0.50588235294117645, 0.44705882352941179, 0.69803921568627447),\n",
       " (0.80000000000000004, 0.72549019607843135, 0.45490196078431372),\n",
       " (0.39215686274509803, 0.70980392156862748, 0.80392156862745101)]"
      ]
     },
     "execution_count": 32,
     "metadata": {},
     "output_type": "execute_result"
    },
    {
     "data": {
      "image/png": "[encoded data removed]",
      "text/plain": [
       "<matplotlib.figure.Figure at 0x3bb0e00d68>"
      ]
     },
     "metadata": {},
     "output_type": "display_data"
    }
   ],
   "source": [
    "current_palette = sns.color_palette()\n",
    "sns.palplot(current_palette)\n",
    "current_palette"
   ]
  },
  {
   "cell_type": "code",
   "execution_count": 150,
   "metadata": {},
   "outputs": [],
   "source": [
    "#Create time to oxytocin admin col\n",
    "df['TIME_DELTA_EX_START_OXYTOCIN_ADMIN'] = (pd.to_datetime(df['OAENTPT']) - pd.to_datetime(df['EX_START_TIME']))/ np.timedelta64(1, 'h')"
   ]
  },
  {
   "cell_type": "code",
   "execution_count": 208,
   "metadata": {},
   "outputs": [],
   "source": [
    "df['TIME_DELTA_EX_START_ONSET_LABOUR'] = (pd.to_datetime(df['ACTIVE LABOR']) - pd.to_datetime(df['EX_START_TIME']))/ np.timedelta64(1, 'h')"
   ]
  },
  {
   "cell_type": "code",
   "execution_count": 211,
   "metadata": {},
   "outputs": [
    {
     "data": {
      "text/plain": [
       "19.65086178861791"
      ]
     },
     "execution_count": 211,
     "metadata": {},
     "output_type": "execute_result"
    }
   ],
   "source": [
    "df['TIME_DELTA_EX_START_ONSET_LABOUR'].mean()"
   ]
  },
  {
   "cell_type": "code",
   "execution_count": 212,
   "metadata": {},
   "outputs": [
    {
     "data": {
      "text/plain": [
       "86"
      ]
     },
     "execution_count": 212,
     "metadata": {},
     "output_type": "execute_result"
    }
   ],
   "source": [
    "df['TIME_DELTA_EX_START_ONSET_LABOUR'].isnull().sum()"
   ]
  },
  {
   "cell_type": "code",
   "execution_count": 227,
   "metadata": {},
   "outputs": [],
   "source": [
    "df['label'] = (df['TIME_DELTA_EX_START_ONSET_LABOUR'] <=24) & (df['MODE_OF_DELIVERY'] == 'VAGINAL')\n",
    "df['label'] = df['label'].astype(int)\n"
   ]
  },
  {
   "cell_type": "code",
   "execution_count": 234,
   "metadata": {},
   "outputs": [
    {
     "data": {
      "text/html": [
       "<div>\n",
       "<style scoped>\n",
       "    .dataframe tbody tr th:only-of-type {\n",
       "        vertical-align: middle;\n",
       "    }\n",
       "\n",
       "    .dataframe tbody tr th {\n",
       "        vertical-align: top;\n",
       "    }\n",
       "\n",
       "    .dataframe thead th {\n",
       "        text-align: right;\n",
       "    }\n",
       "</style>\n",
       "<table border=\"1\" class=\"dataframe\">\n",
       "  <thead>\n",
       "    <tr style=\"text-align: right;\">\n",
       "      <th>STUDY_CODE</th>\n",
       "      <th>4</th>\n",
       "      <th>303</th>\n",
       "    </tr>\n",
       "    <tr>\n",
       "      <th>label</th>\n",
       "      <th></th>\n",
       "      <th></th>\n",
       "    </tr>\n",
       "  </thead>\n",
       "  <tbody>\n",
       "    <tr>\n",
       "      <th>0</th>\n",
       "      <td>183</td>\n",
       "      <td>359</td>\n",
       "    </tr>\n",
       "    <tr>\n",
       "      <th>1</th>\n",
       "      <td>248</td>\n",
       "      <td>321</td>\n",
       "    </tr>\n",
       "  </tbody>\n",
       "</table>\n",
       "</div>"
      ],
      "text/plain": [
       "STUDY_CODE  4    303\n",
       "label               \n",
       "0           183  359\n",
       "1           248  321"
      ]
     },
     "execution_count": 234,
     "metadata": {},
     "output_type": "execute_result"
    }
   ],
   "source": [
    "df.groupby(['STUDY_CODE', 'label']).size().unstack(0)"
   ]
  },
  {
   "cell_type": "code",
   "execution_count": 204,
   "metadata": {},
   "outputs": [
    {
     "data": {
      "text/plain": [
       "['Unnamed: 0',\n",
       " 'ACTIVE LABOR',\n",
       " 'AGE',\n",
       " 'BMI',\n",
       " 'BS_12',\n",
       " 'BS_18',\n",
       " 'BS_24',\n",
       " 'BS_6',\n",
       " 'BS_BASELINE',\n",
       " 'COMPLETED',\n",
       " 'COUNTRY',\n",
       " 'COUNTRY_dummy_CAN',\n",
       " 'COUNTRY_dummy_USA',\n",
       " 'DD_DELIVERY_METHOD',\n",
       " 'DD_DELIVERY_TIME',\n",
       " 'DELIVERY',\n",
       " 'GESTATIONAL_AGE_DAYS',\n",
       " 'L&D DISCHARGE',\n",
       " 'OAENTPT',\n",
       " 'OXYTOCIN_ADMINISTERED',\n",
       " 'OXYTOCIN_DOSAGE',\n",
       " 'PREGTYPE_NULLIPAROUS',\n",
       " 'PREGTYPE_PAROUS',\n",
       " 'STUDY_CODE',\n",
       " 'SUBJID',\n",
       " 'USUBJID',\n",
       " 'Unnamed: 0.1',\n",
       " 'Unnamed: 0_x',\n",
       " 'Unnamed: 0_x.1',\n",
       " 'Unnamed: 0_x.2',\n",
       " 'Unnamed: 0_x.3',\n",
       " 'Unnamed: 0_y',\n",
       " 'Unnamed: 0_y.1',\n",
       " 'Unnamed: 0_y.2',\n",
       " 'Unnamed: 0_y.3',\n",
       " 'WEIGHT',\n",
       " 'GESTATIONAL_AGE_WEEKS']"
      ]
     },
     "execution_count": 204,
     "metadata": {},
     "output_type": "execute_result"
    }
   ],
   "source": [
    "list(df.filter(regex='^[^MHTERM]').keys())"
   ]
  },
  {
   "cell_type": "code",
   "execution_count": 206,
   "metadata": {},
   "outputs": [
    {
     "data": {
      "text/plain": [
       "0"
      ]
     },
     "execution_count": 206,
     "metadata": {},
     "output_type": "execute_result"
    }
   ],
   "source": [
    "df.filter(regex='^[^MHTERM]')['DELIVERY'].isnull().sum()"
   ]
  },
  {
   "cell_type": "code",
   "execution_count": 203,
   "metadata": {},
   "outputs": [
    {
     "data": {
      "text/plain": [
       "86"
      ]
     },
     "execution_count": 203,
     "metadata": {},
     "output_type": "execute_result"
    }
   ],
   "source": [
    "df['TIME_Edf.filter(regex='^[^MHTERM]')['ACTIVE LABOR']"
   ]
  },
  {
   "cell_type": "markdown",
   "metadata": {},
   "source": [
    "# Produce plots"
   ]
  },
  {
   "cell_type": "code",
   "execution_count": 294,
   "metadata": {},
   "outputs": [],
   "source": [
    "#Standard distribution plots\n",
    "plot_cols = {'AGE':'Patient Age', 'BS_BASELINE': 'Baseline Modified Bishop Score', 'OXYTOCIN_DOSAGE': 'Pre-delivery Oxytocin Dosage [Units]', 'BMI':'BMI', 'HEIGHT':'Height [m]', 'WEIGHT': 'Weight [kg]', 'GESTATIONAL_AGE_DAYS': 'Gestational Age [days]', 'RACE': 'Ethnicity', 'GESTATIONAL_AGE_WEEKS': 'Gestational Age [weeks]', 'TIME_DELTA_EX_START_OXYTOCIN_ADMIN': 'Time between Propess administration and Oxytocin administration [hours]', 'TIME_DELTA_EX_START_ONSET_LABOUR': 'Time between Propess administration and onset of Active Labour [hours]'}\n",
    "def plot_multi(df, grouped_df, cols, cust_labels, group_keys, group_col, suffix='', kde=False, box_plots=True):\n",
    "        if kde:\n",
    "            suffix += '_kde'\n",
    "        n_patients = len(df)\n",
    "        plt.clf()\n",
    "        #sns.distplot(df['GESTATIONAL_AGE_DAYS'][df['STUDY_CODE'] == 303].dropna(), kde=False)\n",
    "        bs_cols = list(df.filter(regex='^BS_').keys())\n",
    "        #\n",
    "        #for col in bs_cols:\n",
    "        #    sns.distplot(df[col].dropna(), label=col.split('_')[1], kde=False, bins=range(12), hist_kws={\"alpha\":0.4})\n",
    "        for col,x_title in plot_cols.items():\n",
    "            plt.clf()\n",
    "            if box_plots and col != 'RACE':        f, (ax_box1, ax_box2, ax_box3, ax_hist) = plt.subplots(4, sharex=True, \n",
    "                                            gridspec_kw={\"height_ratios\": (.05, .05, .05, .85)})\n",
    "            #else: \n",
    "            #    f, (ax_hist) = plt.subplots(1, sharex=True, gridspec_kw={\"height_ratios\": (1)})\n",
    "\n",
    "            if col in ['BS_BASELINE', 'RACE']: \n",
    "                if kde: continue\n",
    "                #ax = sns.distplot(df[col].dropna(), kde=False, bins=range(12), hist_kws={\"alpha\":0.4})\n",
    "                #[df[col].dropna()]\n",
    "                if col == 'BS_BASELINE':\n",
    "                    #df.groupby(['STUDY_CODE', col]).size().apply(lambda x:100*(x/n_patients)).unstack(0).plot.bar(stacked=True, edgecolor='white', ax=ax_hist)\n",
    "                    if box_plots: ax_hist = df.groupby([group_col, col]).size().unstack(0).plot.bar(stacked=True, edgecolor='white', ax=ax_hist)\n",
    "                    else:ax_hist = df.groupby([group_col, col]).size().unstack(0).plot.bar(stacked=True, edgecolor='white')\n",
    "                else:\n",
    "                    df.loc[df['RACE']=='BLACK_OR_AFRICAN_AMERICAN', 'RACE'] = 'BLACK/AA'\n",
    "                    ax = df.groupby([group_col, col]).size().unstack(0).plot.bar(stacked=True, edgecolor='white', rot=0)\n",
    "            else: #ax = sns.distplot(df[col].dropna(), kde=False, hist_kws={\"alpha\":0.4})\n",
    "                #ax = df.groupby(['STUDY_CODE', col]).size().unstack(0).plot.hist(stacked=True, edgecolor='white')\n",
    "                #df[col].plot.hist(edgecolor='white')\n",
    "                n_bins = 10\n",
    "                if 'TIME_DELTA' in col: n_bins = 30\n",
    "                if not kde:\n",
    "                    df_c = pd.DataFrame({cust_labels[0]: grouped_df.get_group(group_keys[0])[col], cust_labels[1] :  grouped_df.get_group(group_keys[1])[col]})\n",
    "                    if box_plots: plot = df_c.plot.hist(stacked=True, edgecolor='white', ax=ax_hist, bins=n_bins)\n",
    "                    else: ax_hist = df_c.plot.hist(stacked=True, edgecolor='white',bins=n_bins)\n",
    "                else:\n",
    "                    print(col)\n",
    "                    sns.kdeplot(grouped_df.get_group(group_keys[0])[col], label=cust_labels[0], shade=True)\n",
    "                    sns.kdeplot(grouped_df.get_group(group_keys[1])[col], label=cust_labels[1], shade=True)\n",
    "                    plot = sns.kdeplot(df[col], label='COMBINED', shade=True)\n",
    "            #ax.text(0.3, 1.3,'Patients with missing information: %.2f%%'%((n_missing*100)/len(df)))\n",
    "\n",
    "            if col == 'RACE':\n",
    "                plt.xlabel(x_title)\n",
    "                plt.ylabel('Number of Patients')\n",
    "\n",
    "                handles, labels = ax.get_legend_handles_labels()\n",
    "                labels[0]  = cust_labels[0]\n",
    "                labels[1]  = cust_labels[1]\n",
    "                #labels[0] = 'MISO-OBS-004'\n",
    "                #labels[1] = 'MISO-OBS-303'\n",
    "                print(labels)\n",
    "                plt.legend(handles, labels)\n",
    "                plt.savefig('F:/Projects/Ferring/results/pre_modelling/sprint_1_2_plots/' + col.lower() + suffix + '.svg', format='svg', dpi=1200)\n",
    "                continue\n",
    "            #ax2 = ax.twinx()\n",
    "            if box_plots:\n",
    "                sns.boxplot(x=df[df['STUDY_CODE']==4][col].dropna(), ax=ax_box2, showmeans=True, color=current_palette[0])\n",
    "                sns.boxplot(x=df[df['STUDY_CODE']==303][col].dropna(), ax=ax_box1, showmeans=True, color=current_palette[1])\n",
    "                bx = sns.boxplot(x=df[col].dropna(), ax=ax_box3, showmeans=True, color=current_palette[3])\n",
    "\n",
    "                ax_box3.set(yticks=[])\n",
    "                ax_box1.set(yticks=[])\n",
    "                ax_box2.set(yticks=[])\n",
    "\n",
    "\n",
    "            handles, labels = ax_hist.get_legend_handles_labels()\n",
    "            plt.ylabel('Number of Patients')\n",
    "            if handles and not kde:\n",
    "                if box_plots:\n",
    "                    handles.append(copy.copy(handles[-1]))\n",
    "                    try: handles[-1].set_facecolor(current_palette[3])\n",
    "                    except: \n",
    "                        handles[-1] = copy.copy(prev_handles[-1])\n",
    "                        handles[-1].set_facecolor(current_palette[3])\n",
    "                    labels.append('COMBINED')\n",
    "                if 'BS' in col: \n",
    "                    labels[0]  = cust_labels[0]\n",
    "                    labels[1]  = cust_labels[1]\n",
    "                    #plt.ylabel('Number of Patients')\n",
    "                    #for item in handles[-1].get_children(): \n",
    "                    #    item.set_facecolor(current_palette[3])\n",
    "\n",
    "                \n",
    "                plt.legend(handles, labels)\n",
    "\n",
    "            prev_handles = handles\n",
    "            #ax2.set(ylim=(-10,5))\n",
    "            #n_missing = df[col].isnull().sum()\n",
    "\n",
    "            plt.xlabel(x_title)\n",
    "\n",
    "            plt.savefig('F:/Projects/Ferring/results/pre_modelling/sprint_1_2_plots/' + col.lower() + suffix + '.svg', format='svg', dpi=1200)\n",
    "            #sns.violinplot(x='')\n",
    "            #plt.legend()\n",
    "#plt.show()\n",
    "\n",
    "\n",
    "#df['BS_BASELINE'].plot(kind='hist')\n"
   ]
  },
  {
   "cell_type": "code",
   "execution_count": 210,
   "metadata": {},
   "outputs": [
    {
     "name": "stdout",
     "output_type": "stream",
     "text": [
      "['MISO-OBS-004', 'MISO-OBS-303']\n"
     ]
    },
    {
     "data": {
      "text/plain": [
       "<matplotlib.figure.Figure at 0x3bb11d93c8>"
      ]
     },
     "metadata": {},
     "output_type": "display_data"
    },
    {
     "data": {
      "text/plain": [
       "<matplotlib.figure.Figure at 0x3bb4f9b2e8>"
      ]
     },
     "metadata": {},
     "output_type": "display_data"
    },
    {
     "data": {
      "text/plain": [
       "<matplotlib.figure.Figure at 0x3bb4d037b8>"
      ]
     },
     "metadata": {},
     "output_type": "display_data"
    },
    {
     "data": {
      "text/plain": [
       "<matplotlib.figure.Figure at 0x3bb53b5518>"
      ]
     },
     "metadata": {},
     "output_type": "display_data"
    },
    {
     "data": {
      "text/plain": [
       "<matplotlib.figure.Figure at 0x3bb102c940>"
      ]
     },
     "metadata": {},
     "output_type": "display_data"
    },
    {
     "data": {
      "text/plain": [
       "<matplotlib.figure.Figure at 0x3bb557c748>"
      ]
     },
     "metadata": {},
     "output_type": "display_data"
    },
    {
     "data": {
      "text/plain": [
       "<matplotlib.figure.Figure at 0x3bb4d65128>"
      ]
     },
     "metadata": {},
     "output_type": "display_data"
    },
    {
     "data": {
      "text/plain": [
       "<matplotlib.figure.Figure at 0x3bb4af5ba8>"
      ]
     },
     "metadata": {},
     "output_type": "display_data"
    },
    {
     "data": {
      "text/plain": [
       "<matplotlib.figure.Figure at 0x3bb1801cf8>"
      ]
     },
     "metadata": {},
     "output_type": "display_data"
    },
    {
     "data": {
      "text/plain": [
       "<matplotlib.figure.Figure at 0x3bb4e281d0>"
      ]
     },
     "metadata": {},
     "output_type": "display_data"
    },
    {
     "data": {
      "text/plain": [
       "<matplotlib.figure.Figure at 0x3bb5273278>"
      ]
     },
     "metadata": {},
     "output_type": "display_data"
    },
    {
     "data": {
      "image/png": "[encoded data removed]",
      "text/plain": [
       "<matplotlib.figure.Figure at 0x3bb1e30240>"
      ]
     },
     "metadata": {},
     "output_type": "display_data"
    }
   ],
   "source": [
    "plot_multi(df, grouped_df, plot_cols, ['MISO-OBS-004', 'MISO-OBS-303'], [4, 303], 'STUDY_CODE')"
   ]
  },
  {
   "cell_type": "code",
   "execution_count": 295,
   "metadata": {},
   "outputs": [
    {
     "name": "stdout",
     "output_type": "stream",
     "text": [
      "['MISO-OBS-004', 'MISO-OBS-303']\n"
     ]
    },
    {
     "data": {
      "text/plain": [
       "<matplotlib.figure.Figure at 0x3bb8c97240>"
      ]
     },
     "metadata": {},
     "output_type": "display_data"
    },
    {
     "data": {
      "text/plain": [
       "<matplotlib.figure.Figure at 0x3bb8c9db38>"
      ]
     },
     "metadata": {},
     "output_type": "display_data"
    },
    {
     "data": {
      "text/plain": [
       "<matplotlib.figure.Figure at 0x3bb8d49ac8>"
      ]
     },
     "metadata": {},
     "output_type": "display_data"
    },
    {
     "data": {
      "text/plain": [
       "<matplotlib.figure.Figure at 0x3bb8dc7a58>"
      ]
     },
     "metadata": {},
     "output_type": "display_data"
    },
    {
     "data": {
      "text/plain": [
       "<matplotlib.figure.Figure at 0x3bb8c2e9e8>"
      ]
     },
     "metadata": {},
     "output_type": "display_data"
    },
    {
     "data": {
      "text/plain": [
       "<matplotlib.figure.Figure at 0x3bb8b08080>"
      ]
     },
     "metadata": {},
     "output_type": "display_data"
    },
    {
     "data": {
      "text/plain": [
       "<matplotlib.figure.Figure at 0x3bb8cd3c50>"
      ]
     },
     "metadata": {},
     "output_type": "display_data"
    },
    {
     "data": {
      "text/plain": [
       "<matplotlib.figure.Figure at 0x3bb8c0d128>"
      ]
     },
     "metadata": {},
     "output_type": "display_data"
    },
    {
     "data": {
      "text/plain": [
       "<matplotlib.figure.Figure at 0x3bb8b087b8>"
      ]
     },
     "metadata": {},
     "output_type": "display_data"
    },
    {
     "data": {
      "text/plain": [
       "<matplotlib.figure.Figure at 0x3bb11d9be0>"
      ]
     },
     "metadata": {},
     "output_type": "display_data"
    },
    {
     "data": {
      "text/plain": [
       "<matplotlib.figure.Figure at 0x3bb8c06780>"
      ]
     },
     "metadata": {},
     "output_type": "display_data"
    },
    {
     "data": {
      "image/png": "[encoded data removed]",
      "text/plain": [
       "<matplotlib.figure.Figure at 0x3bb51e72e8>"
      ]
     },
     "metadata": {},
     "output_type": "display_data"
    }
   ],
   "source": [
    "plot_multi(df, grouped_df, plot_cols, ['MISO-OBS-004', 'MISO-OBS-303'], [4, 303], 'STUDY_CODE', box_plots=False, suffix='_no_box')"
   ]
  },
  {
   "cell_type": "code",
   "execution_count": 237,
   "metadata": {},
   "outputs": [],
   "source": [
    "grouped_df_dm = df.groupby('label')"
   ]
  },
  {
   "cell_type": "code",
   "execution_count": 185,
   "metadata": {},
   "outputs": [
    {
     "data": {
      "text/plain": [
       "3       4.0\n",
       "5       3.0\n",
       "8       3.0\n",
       "9       2.0\n",
       "10      3.0\n",
       "11      1.0\n",
       "12      3.0\n",
       "       ... \n",
       "1103    4.0\n",
       "1104    3.0\n",
       "1105    2.0\n",
       "1107    0.0\n",
       "1109    3.0\n",
       "1111    2.0\n",
       "1112    3.0\n",
       "Name: BS_BASELINE, Length: 802, dtype: float64"
      ]
     },
     "execution_count": 185,
     "metadata": {},
     "output_type": "execute_result"
    }
   ],
   "source": [
    "grouped_df_dm.get_group('VAGINAL')['BS_BASELINE']"
   ]
  },
  {
   "cell_type": "code",
   "execution_count": 238,
   "metadata": {},
   "outputs": [
    {
     "name": "stdout",
     "output_type": "stream",
     "text": [
      "['SUCCESS', 'FAILURE']\n"
     ]
    },
    {
     "data": {
      "text/plain": [
       "<matplotlib.figure.Figure at 0x3bb1d390b8>"
      ]
     },
     "metadata": {},
     "output_type": "display_data"
    },
    {
     "data": {
      "text/plain": [
       "<matplotlib.figure.Figure at 0x3bb1d05390>"
      ]
     },
     "metadata": {},
     "output_type": "display_data"
    },
    {
     "data": {
      "text/plain": [
       "<matplotlib.figure.Figure at 0x3bb4c5da90>"
      ]
     },
     "metadata": {},
     "output_type": "display_data"
    },
    {
     "data": {
      "text/plain": [
       "<matplotlib.figure.Figure at 0x3bb19d9fd0>"
      ]
     },
     "metadata": {},
     "output_type": "display_data"
    },
    {
     "data": {
      "text/plain": [
       "<matplotlib.figure.Figure at 0x3bb2007c50>"
      ]
     },
     "metadata": {},
     "output_type": "display_data"
    },
    {
     "data": {
      "text/plain": [
       "<matplotlib.figure.Figure at 0x3bb5218a58>"
      ]
     },
     "metadata": {},
     "output_type": "display_data"
    },
    {
     "data": {
      "text/plain": [
       "<matplotlib.figure.Figure at 0x3bb4b1aef0>"
      ]
     },
     "metadata": {},
     "output_type": "display_data"
    },
    {
     "data": {
      "text/plain": [
       "<matplotlib.figure.Figure at 0x3bb1bf6470>"
      ]
     },
     "metadata": {},
     "output_type": "display_data"
    },
    {
     "data": {
      "text/plain": [
       "<matplotlib.figure.Figure at 0x3bb1d5f0b8>"
      ]
     },
     "metadata": {},
     "output_type": "display_data"
    },
    {
     "data": {
      "text/plain": [
       "<matplotlib.figure.Figure at 0x3bb53336a0>"
      ]
     },
     "metadata": {},
     "output_type": "display_data"
    },
    {
     "data": {
      "text/plain": [
       "<matplotlib.figure.Figure at 0x3bb0f21518>"
      ]
     },
     "metadata": {},
     "output_type": "display_data"
    },
    {
     "data": {
      "image/png": "[encoded data removed]",
      "text/plain": [
       "<matplotlib.figure.Figure at 0x3bb4a3c940>"
      ]
     },
     "metadata": {},
     "output_type": "display_data"
    }
   ],
   "source": [
    "plot_multi(df, grouped_df_dm, plot_cols, ['SUCCESS', 'FAILURE'], [1, 0], 'label', suffix='_outcome')"
   ]
  },
  {
   "cell_type": "code",
   "execution_count": 239,
   "metadata": {},
   "outputs": [
    {
     "name": "stdout",
     "output_type": "stream",
     "text": [
      "AGE\n",
      "OXYTOCIN_DOSAGE\n"
     ]
    },
    {
     "name": "stderr",
     "output_type": "stream",
     "text": [
      "C:\\ProgramData\\Anaconda3\\lib\\site-packages\\statsmodels\\nonparametric\\kde.py:454: RuntimeWarning: invalid value encountered in greater\n",
      "  X = X[np.logical_and(X>clip[0], X<clip[1])] # won't work for two columns.\n",
      "C:\\ProgramData\\Anaconda3\\lib\\site-packages\\statsmodels\\nonparametric\\kde.py:454: RuntimeWarning: invalid value encountered in less\n",
      "  X = X[np.logical_and(X>clip[0], X<clip[1])] # won't work for two columns.\n"
     ]
    },
    {
     "name": "stdout",
     "output_type": "stream",
     "text": [
      "BMI\n",
      "HEIGHT\n",
      "WEIGHT\n",
      "GESTATIONAL_AGE_DAYS\n",
      "GESTATIONAL_AGE_WEEKS\n",
      "TIME_DELTA_EX_START_OXYTOCIN_ADMIN\n",
      "TIME_DELTA_EX_START_ONSET_LABOUR\n"
     ]
    },
    {
     "data": {
      "text/plain": [
       "<matplotlib.figure.Figure at 0x3bb1f0af60>"
      ]
     },
     "metadata": {},
     "output_type": "display_data"
    },
    {
     "data": {
      "text/plain": [
       "<matplotlib.figure.Figure at 0x3bb4ca3780>"
      ]
     },
     "metadata": {},
     "output_type": "display_data"
    },
    {
     "data": {
      "text/plain": [
       "<matplotlib.figure.Figure at 0x3bb5493f60>"
      ]
     },
     "metadata": {},
     "output_type": "display_data"
    },
    {
     "data": {
      "text/plain": [
       "<matplotlib.figure.Figure at 0x3bb4c65668>"
      ]
     },
     "metadata": {},
     "output_type": "display_data"
    },
    {
     "data": {
      "text/plain": [
       "<matplotlib.figure.Figure at 0x3bb562fd68>"
      ]
     },
     "metadata": {},
     "output_type": "display_data"
    },
    {
     "data": {
      "text/plain": [
       "<matplotlib.figure.Figure at 0x3bb53d0400>"
      ]
     },
     "metadata": {},
     "output_type": "display_data"
    },
    {
     "data": {
      "text/plain": [
       "<matplotlib.figure.Figure at 0x3bb5455860>"
      ]
     },
     "metadata": {},
     "output_type": "display_data"
    },
    {
     "data": {
      "text/plain": [
       "<matplotlib.figure.Figure at 0x3bb4dd00f0>"
      ]
     },
     "metadata": {},
     "output_type": "display_data"
    },
    {
     "data": {
      "text/plain": [
       "<matplotlib.figure.Figure at 0x3bb1d5fd68>"
      ]
     },
     "metadata": {},
     "output_type": "display_data"
    },
    {
     "data": {
      "text/plain": [
       "<matplotlib.figure.Figure at 0x3bb5131c88>"
      ]
     },
     "metadata": {},
     "output_type": "display_data"
    },
    {
     "data": {
      "image/png": "[encoded data removed]",
      "text/plain": [
       "<matplotlib.figure.Figure at 0x3bb1e35630>"
      ]
     },
     "metadata": {},
     "output_type": "display_data"
    }
   ],
   "source": [
    "plot_multi(df, grouped_df_dm, plot_cols, ['SUCCESS', 'FAILURE'], [1, 0], 'label', suffix='_outcome', kde=True)"
   ]
  },
  {
   "cell_type": "code",
   "execution_count": 235,
   "metadata": {},
   "outputs": [
    {
     "data": {
      "text/html": [
       "<div>\n",
       "<style scoped>\n",
       "    .dataframe tbody tr th:only-of-type {\n",
       "        vertical-align: middle;\n",
       "    }\n",
       "\n",
       "    .dataframe tbody tr th {\n",
       "        vertical-align: top;\n",
       "    }\n",
       "\n",
       "    .dataframe thead th {\n",
       "        text-align: right;\n",
       "    }\n",
       "</style>\n",
       "<table border=\"1\" class=\"dataframe\">\n",
       "  <thead>\n",
       "    <tr style=\"text-align: right;\">\n",
       "      <th>OXYTOCIN_ADMINISTERED</th>\n",
       "      <th>False</th>\n",
       "      <th>True</th>\n",
       "    </tr>\n",
       "    <tr>\n",
       "      <th>label</th>\n",
       "      <th></th>\n",
       "      <th></th>\n",
       "    </tr>\n",
       "  </thead>\n",
       "  <tbody>\n",
       "    <tr>\n",
       "      <th>0</th>\n",
       "      <td>6.930693</td>\n",
       "      <td>41.854185</td>\n",
       "    </tr>\n",
       "    <tr>\n",
       "      <th>1</th>\n",
       "      <td>20.972097</td>\n",
       "      <td>30.243024</td>\n",
       "    </tr>\n",
       "  </tbody>\n",
       "</table>\n",
       "</div>"
      ],
      "text/plain": [
       "OXYTOCIN_ADMINISTERED      False      True \n",
       "label                                      \n",
       "0                       6.930693  41.854185\n",
       "1                      20.972097  30.243024"
      ]
     },
     "execution_count": 235,
     "metadata": {},
     "output_type": "execute_result"
    }
   ],
   "source": [
    "df.groupby(['label', 'OXYTOCIN_ADMINISTERED']).size().unstack(0).transpose()*100/n_patients"
   ]
  },
  {
   "cell_type": "code",
   "execution_count": 236,
   "metadata": {},
   "outputs": [
    {
     "data": {
      "text/html": [
       "<div>\n",
       "<style scoped>\n",
       "    .dataframe tbody tr th:only-of-type {\n",
       "        vertical-align: middle;\n",
       "    }\n",
       "\n",
       "    .dataframe tbody tr th {\n",
       "        vertical-align: top;\n",
       "    }\n",
       "\n",
       "    .dataframe thead th {\n",
       "        text-align: right;\n",
       "    }\n",
       "</style>\n",
       "<table border=\"1\" class=\"dataframe\">\n",
       "  <thead>\n",
       "    <tr style=\"text-align: right;\">\n",
       "      <th>OXYTOCIN_ADMINISTERED</th>\n",
       "      <th>False</th>\n",
       "      <th>True</th>\n",
       "    </tr>\n",
       "    <tr>\n",
       "      <th>label</th>\n",
       "      <th></th>\n",
       "      <th></th>\n",
       "    </tr>\n",
       "  </thead>\n",
       "  <tbody>\n",
       "    <tr>\n",
       "      <th>0</th>\n",
       "      <td>77</td>\n",
       "      <td>465</td>\n",
       "    </tr>\n",
       "    <tr>\n",
       "      <th>1</th>\n",
       "      <td>233</td>\n",
       "      <td>336</td>\n",
       "    </tr>\n",
       "  </tbody>\n",
       "</table>\n",
       "</div>"
      ],
      "text/plain": [
       "OXYTOCIN_ADMINISTERED  False  True \n",
       "label                              \n",
       "0                         77    465\n",
       "1                        233    336"
      ]
     },
     "execution_count": 236,
     "metadata": {},
     "output_type": "execute_result"
    }
   ],
   "source": [
    "df.groupby(['label', 'OXYTOCIN_ADMINISTERED']).size().unstack(0).transpose()"
   ]
  },
  {
   "cell_type": "code",
   "execution_count": 193,
   "metadata": {},
   "outputs": [
    {
     "data": {
      "text/plain": [
       "19"
      ]
     },
     "execution_count": 193,
     "metadata": {},
     "output_type": "execute_result"
    }
   ],
   "source": [
    "(df['BMI'] > 50).sum()"
   ]
  },
  {
   "cell_type": "code",
   "execution_count": 195,
   "metadata": {},
   "outputs": [
    {
     "data": {
      "text/plain": [
       "5"
      ]
     },
     "execution_count": 195,
     "metadata": {},
     "output_type": "execute_result"
    }
   ],
   "source": [
    "(df[df['STUDY_CODE'] == 303]['BMI'] > 50).sum()"
   ]
  },
  {
   "cell_type": "code",
   "execution_count": 197,
   "metadata": {},
   "outputs": [
    {
     "data": {
      "text/plain": [
       "39.61347563327767"
      ]
     },
     "execution_count": 197,
     "metadata": {},
     "output_type": "execute_result"
    }
   ],
   "source": [
    "df['GESTATIONAL_AGE_WEEKS'].mean()"
   ]
  },
  {
   "cell_type": "code",
   "execution_count": 199,
   "metadata": {},
   "outputs": [
    {
     "data": {
      "text/plain": [
       "31.111921648091847"
      ]
     },
     "execution_count": 199,
     "metadata": {},
     "output_type": "execute_result"
    }
   ],
   "source": [
    "df['TIME_DELTA_EX_START_OXYTOCIN_ADMIN'].mean()"
   ]
  },
  {
   "cell_type": "code",
   "execution_count": 256,
   "metadata": {},
   "outputs": [
    {
     "data": {
      "text/plain": [
       "STUDY_CODE\n",
       "4      1\n",
       "303    4\n",
       "dtype: int64"
      ]
     },
     "execution_count": 256,
     "metadata": {},
     "output_type": "execute_result"
    }
   ],
   "source": [
    "df[df['ACTIVE LABOR'].isnull() & (df['MODE_OF_DELIVERY'] == 'VAGINAL')].groupby('STUDY_CODE').size()"
   ]
  },
  {
   "cell_type": "code",
   "execution_count": 250,
   "metadata": {},
   "outputs": [],
   "source": [
    "df['TIME_DELTA_ADMIN_DELIVERY'] = (pd.to_datetime(df['DD_DELIVERY_TIME']) - pd.to_datetime(df['EX_START_TIME'] ))/np.timedelta64(1, 'h')"
   ]
  },
  {
   "cell_type": "code",
   "execution_count": 257,
   "metadata": {},
   "outputs": [
    {
     "data": {
      "text/plain": [
       "STUDY_CODE\n",
       "4      32\n",
       "303    54\n",
       "dtype: int64"
      ]
     },
     "execution_count": 257,
     "metadata": {},
     "output_type": "execute_result"
    }
   ],
   "source": [
    "df[df['ACTIVE LABOR'].isnull()].groupby('STUDY_CODE').size()"
   ]
  },
  {
   "cell_type": "code",
   "execution_count": 281,
   "metadata": {},
   "outputs": [
    {
     "data": {
      "text/plain": [
       "['303-10-11005',\n",
       " '303-10-20152',\n",
       " '303-11-17506',\n",
       " '303-25-12501',\n",
       " '004-30-1301228']"
      ]
     },
     "execution_count": 281,
     "metadata": {},
     "output_type": "execute_result"
    }
   ],
   "source": [
    "list(df[df['ACTIVE LABOR'].isnull() & (df['MODE_OF_DELIVERY'] == 'VAGINAL')].filter(regex='^TIME|L&D|USUBJID')['USUBJID'].tolist())"
   ]
  },
  {
   "cell_type": "code",
   "execution_count": 269,
   "metadata": {},
   "outputs": [
    {
     "data": {
      "text/plain": [
       "81"
      ]
     },
     "execution_count": 269,
     "metadata": {},
     "output_type": "execute_result"
    }
   ],
   "source": [
    "len(df[df['ACTIVE LABOR'].isnull() & (df['MODE_OF_DELIVERY'] != 'VAGINAL')])"
   ]
  },
  {
   "cell_type": "code",
   "execution_count": 271,
   "metadata": {},
   "outputs": [],
   "source": [
    "df['ACTIVE_LT_24'] = df['TIME_DELTA_EX_START_ONSET_LABOUR'] <= 24"
   ]
  },
  {
   "cell_type": "code",
   "execution_count": 278,
   "metadata": {},
   "outputs": [
    {
     "data": {
      "text/html": [
       "<div>\n",
       "<style scoped>\n",
       "    .dataframe tbody tr th:only-of-type {\n",
       "        vertical-align: middle;\n",
       "    }\n",
       "\n",
       "    .dataframe tbody tr th {\n",
       "        vertical-align: top;\n",
       "    }\n",
       "\n",
       "    .dataframe thead th {\n",
       "        text-align: right;\n",
       "    }\n",
       "</style>\n",
       "<table border=\"1\" class=\"dataframe\">\n",
       "  <thead>\n",
       "    <tr style=\"text-align: right;\">\n",
       "      <th>DD_DELIVERY_METHOD</th>\n",
       "      <th>CESAREAN SECTION</th>\n",
       "      <th>VAGINAL</th>\n",
       "    </tr>\n",
       "    <tr>\n",
       "      <th>ACTIVE_LT_24</th>\n",
       "      <th></th>\n",
       "      <th></th>\n",
       "    </tr>\n",
       "  </thead>\n",
       "  <tbody>\n",
       "    <tr>\n",
       "      <th>False</th>\n",
       "      <td>180</td>\n",
       "      <td>233</td>\n",
       "    </tr>\n",
       "    <tr>\n",
       "      <th>True</th>\n",
       "      <td>129</td>\n",
       "      <td>569</td>\n",
       "    </tr>\n",
       "  </tbody>\n",
       "</table>\n",
       "</div>"
      ],
      "text/plain": [
       "DD_DELIVERY_METHOD  CESAREAN SECTION  VAGINAL\n",
       "ACTIVE_LT_24                                 \n",
       "False                            180      233\n",
       "True                             129      569"
      ]
     },
     "execution_count": 278,
     "metadata": {},
     "output_type": "execute_result"
    }
   ],
   "source": [
    "df.groupby(['MODE_OF_DELIVERY', 'ACTIVE_LT_24']).size().unstack(0)"
   ]
  },
  {
   "cell_type": "code",
   "execution_count": 274,
   "metadata": {},
   "outputs": [
    {
     "data": {
      "text/plain": [
       "0"
      ]
     },
     "execution_count": 274,
     "metadata": {},
     "output_type": "execute_result"
    }
   ],
   "source": [
    "df['ACTIVE_LT_24'][df['ACTIVE LABOR'].isnull()].sum()"
   ]
  },
  {
   "cell_type": "code",
   "execution_count": 308,
   "metadata": {},
   "outputs": [
    {
     "data": {
      "text/plain": [
       "['303-27-22761', '004-21-1210843', '004-21-1210852', '004-21-2210873']"
      ]
     },
     "execution_count": 308,
     "metadata": {},
     "output_type": "execute_result"
    }
   ],
   "source": [
    "df[df['BS_BASELINE'].isnull()].filter(regex='^[^MHTERM]')['USUBJID'].tolist()"
   ]
  },
  {
   "cell_type": "code",
   "execution_count": 13,
   "metadata": {},
   "outputs": [],
   "source": [
    "mhterms = list(df.filter(regex='^MHTERM').filter(regex='COUNT$').keys())"
   ]
  },
  {
   "cell_type": "code",
   "execution_count": 18,
   "metadata": {},
   "outputs": [
    {
     "data": {
      "text/plain": [
       "['+GBS_-_2006',\n",
       " '+GBS',\n",
       " '+_GBS',\n",
       " 'GBS+',\n",
       " 'GBST',\n",
       " 'GBS_(GROUP_B_STREP)_POSITIVE',\n",
       " 'GBS_+VE',\n",
       " 'GBS_+',\n",
       " 'GBS_+_VE',\n",
       " 'GBS_CARRIER',\n",
       " 'GBS',\n",
       " 'GBS_POSITIVE_8/10/06',\n",
       " 'GBS_POSITIVE',\n",
       " 'GBS_POSTITIVE',\n",
       " 'GBS_POS',\n",
       " 'GBS_STATUS_UNKNOWN_TREATED_PROPHALACTIC',\n",
       " 'GBS_UNKNOWN',\n",
       " 'GROUP_BETA_STRAP_POSITIVE',\n",
       " 'GROUP_BETA_STREP:_POSITIVE;_APRIL_2006',\n",
       " 'GROUP_BETA_STREP_POSITIVE,_2006',\n",
       " 'GROUP_BETA_STREP_POSITIVE,_2007',\n",
       " 'GROUP_BETA_STREP_POSITIVE-2006',\n",
       " 'GROUP_BETA_STREP_POSITIVE-_2006',\n",
       " 'GROUP_BETA_STREP_POSITIVE_(VAGINAL)',\n",
       " 'GROUP_BETA_STREP_POSITIVE',\n",
       " 'GROUP_B_STREPTOCOCCUS',\n",
       " 'GROUP_B_STREP',\n",
       " 'GROUP_B_STREP_POSITIVE',\n",
       " 'GROUP_B_VAGINAL_STREP',\n",
       " 'GROUP_STREP_B_POSITIVE',\n",
       " 'POS._GBS',\n",
       " 'POSITIVE_FOR_GROUP_BETA_STREP',\n",
       " 'POSITIVE_GBS_-_DX_3/3/06',\n",
       " 'POSITIVE_GBS',\n",
       " 'POSITIVE_GROUP_BETA_STREP',\n",
       " 'POSITIVE_GROUP_B_STREP',\n",
       " 'POS_GBS',\n",
       " 'REMOTE_HISTORY_VAGINAL_GROUP_B_STREP',\n",
       " 'URINARY_TRACT_INFECTION_(GROUP_B_STREP)',\n",
       " 'VAGINAL_GROUP_BETA_STREP_POSITIVE',\n",
       " 'VAGINAL_GROUP_B_STREP_POSITIVE']"
      ]
     },
     "execution_count": 18,
     "metadata": {},
     "output_type": "execute_result"
    }
   ],
   "source": [
    "[term.replace('MHTERM_', '').replace('_COUNT', '') for term in mhterms if ('GBS' in term) or ('GROUP' in term) or ('STREP' in term)]"
   ]
  },
  {
   "cell_type": "code",
   "execution_count": 45,
   "metadata": {},
   "outputs": [
    {
     "data": {
      "text/plain": [
       "['BORDERLINE_HYPERTENSION,_2007',\n",
       " 'CHRONIC_HYPERTENSION',\n",
       " 'GESTATIONAL_HYPERTENSION,_1990',\n",
       " 'GESTATIONAL_HYPERTENSION,_2007',\n",
       " 'GESTATIONAL_HYPERTENSION',\n",
       " 'HYPERTENSION,_CHRONIC',\n",
       " 'HYPERTENSION',\n",
       " 'HYPERTENSION_WITH_PREGNANCY,MILD_PREECLAMPSIA',\n",
       " 'HYPERTENSION_WITH_PREGNANCY',\n",
       " 'HYPERTENSION__:_ONSET_UNKNOWN',\n",
       " 'INDUCED_DUE_TO_INCREASED_BLOOD_PRESSURE_SECONDARY_TO_PREGNANCY_INDUCED_HYPERTENSION',\n",
       " 'INTERMITTENT_HYPERTENSION',\n",
       " 'PIH,_PREGNANCY-INDUCED_HYPERTENSION_(GESTATIONAL)',\n",
       " 'PREGNANCY-INDUCED_HYPERTENSION',\n",
       " 'PREGNANCY_INDUCED_HYPERTENSION,_2007',\n",
       " 'PREGNANCY_INDUCED_HYPERTENSION',\n",
       " 'TRANSIENT_HYPERTENSION_OF_PREGNANCY']"
      ]
     },
     "execution_count": 45,
     "metadata": {},
     "output_type": "execute_result"
    }
   ],
   "source": [
    "[term.replace('MHTERM_', '').replace('_COUNT', '') for term in mhterms if ('HYPERTENSION' in term)]"
   ]
  },
  {
   "cell_type": "code",
   "execution_count": 42,
   "metadata": {},
   "outputs": [
    {
     "data": {
      "text/plain": [
       "['ANXIETY/DEPRESSION',\n",
       " 'ANXIETY/DEPRESSIVE_DISORDER_-_2005',\n",
       " 'ANXIETY_DEPRESSION',\n",
       " 'BIPOLAR._BORDERLINE_PERSONALITY_DISORDER',\n",
       " 'BIPOLAR_(DIAGNOSED_IN_2006)',\n",
       " 'BIPOLAR_ANXIETY_DISORDER',\n",
       " 'BIPOLAR',\n",
       " 'BIPOLAR_DEPRESSION',\n",
       " 'BIPOLAR_DISODER',\n",
       " 'BIPOLAR_DISORDER',\n",
       " 'DEPRESSION,_2006',\n",
       " 'DEPRESSION,_BORDERLINE_PERSONALITY,_POST_TRAUMATIC_STRESS_DISORDER',\n",
       " 'DEPRESSION,_UNSPECIFIED',\n",
       " 'DEPRESSION/ANXIETY',\n",
       " 'DEPRESSION_-_PT._REPORTS_MILD_TO_MODERATE.',\n",
       " 'DEPRESSION_2_YEARS_AGO',\n",
       " 'DEPRESSION',\n",
       " 'DEPRESSION_RELATED_TO_POLYCYSTIC_OVARIAN_SYNDROME',\n",
       " 'DEPRESSION_SYMPTOMS',\n",
       " 'DEPRESSION_WITH_ANXIETY',\n",
       " 'DEPRESSION_WITH_HISTORY_OF_MULTIPLE_SUICIDE_ATTEMPTS',\n",
       " 'DEPRESSIVE_DISORDER',\n",
       " 'H/O_DEPRESSION',\n",
       " 'HISTORY_OF_DEPRESSION',\n",
       " 'HISTORY_OF_POSTPARTUM_DEPRESSION',\n",
       " 'HISTORY_OF__PANIC_ATTACKS_AND_POST-PARTUM_DEPRESSION_POST_D_AND_C',\n",
       " 'HX_DEPRESSION',\n",
       " 'HX_OF_DEPRESSION',\n",
       " 'HX_OF_POST_PARTUM_DEPRESSION',\n",
       " 'POST_PARTUM_DEPRESSION',\n",
       " 'PT_REPORTS_DEPRESSION_AND_ANXIETY_X_3_MONTHS_IN_2004.__SUICIDAL_IDEATION,_NO_SUICIDE_ATTEMPTS.__TREATED_WITH_MEDS.']"
      ]
     },
     "execution_count": 42,
     "metadata": {},
     "output_type": "execute_result"
    }
   ],
   "source": [
    "YEAST [term.replace('MHTERM_', '').replace('_COUNT', '') for term in mhterms if ('BIPOLAR' in term) or ('DEPR' in term)]"
   ]
  },
  {
   "cell_type": "code",
   "execution_count": 43,
   "metadata": {},
   "outputs": [
    {
     "data": {
      "text/plain": [
       "['ANEMIA,_2007',\n",
       " 'ANEMIA,_HGB_\"WATTS\"',\n",
       " 'ANEMIA,_STARTED_ON_IRON_SUPPLEMENT_7/06',\n",
       " 'ANEMIA-2006',\n",
       " 'ANEMIA-ON_IRON',\n",
       " 'ANEMIA-_2006',\n",
       " 'ANEMIA_(IRON_DEFICIENCY)',\n",
       " 'ANEMIA_(PREGNANCY-RELATED,_GENERAL,_MILD)',\n",
       " 'ANEMIA_13_MARCH_06',\n",
       " 'ANEMIA',\n",
       " 'ANEMIA_DURING_PREGNANCY',\n",
       " 'ANEMIA_IN_PREGNANCY_-_2006',\n",
       " 'ANEMIA_IN_PREGNANCY_-_TX',\n",
       " 'IRON_DEFICICIENCY_ANEMIA',\n",
       " 'IRON_DEFICIENCY_ANEMIA.',\n",
       " 'IRON_DEFICIENCY_ANEMIA',\n",
       " 'IRON_DEFICIENT_ANEMIA',\n",
       " 'MILD_ANEMIA',\n",
       " 'NORMOCYTIC_ANEMIA',\n",
       " 'SEVERE_ANEMIA',\n",
       " 'SICKLE_CELL_ANEMIA_TRAIT']"
      ]
     },
     "execution_count": 43,
     "metadata": {},
     "output_type": "execute_result"
    }
   ],
   "source": [
    "[term.replace('MHTERM_', '').replace('_COUNT', '') for term in mhterms if ('ANEMIA' in term)]"
   ]
  },
  {
   "cell_type": "code",
   "execution_count": 47,
   "metadata": {},
   "outputs": [
    {
     "data": {
      "text/plain": [
       "['VAGINAL_YEAST_INFECTION',\n",
       " 'YEAST_(VAGINAL)',\n",
       " 'YEAST_INFECTION-2006',\n",
       " 'YEAST_INFECTION-_2006',\n",
       " 'YEAST_INFECTION_(CANDIDIASIS)',\n",
       " 'YEAST_INFECTION',\n",
       " 'YEAST_INFECTION_DURING_PREGNANCY',\n",
       " 'YEAST_VAGINITIS']"
      ]
     },
     "execution_count": 47,
     "metadata": {},
     "output_type": "execute_result"
    }
   ],
   "source": [
    "[term.replace('MHTERM_', '').replace('_COUNT', '') for term in mhterms if ('YEAST' in term)]"
   ]
  },
  {
   "cell_type": "code",
   "execution_count": 48,
   "metadata": {},
   "outputs": [
    {
     "data": {
      "text/plain": [
       "['DX_UTI_1ST_TIMESTER_-_TX',\n",
       " 'FREQUENT_URINARY_TRACT_INFECTIONS',\n",
       " \"FREQUENT_UTI'S\",\n",
       " \"FREQUENT_UTI'S_IN_PREGNANCY\",\n",
       " 'GU-_URINARY_TRACT_INFECTION',\n",
       " 'HISTORY_OF_URINARY_TRACK_INFECTIONS',\n",
       " 'HISTORY_OF_UTI_IN_PREGNANCY',\n",
       " 'HX_OF_MULTIBLE_URINARY_TRACT_INFECTIONS',\n",
       " \"HX_OF_UTI'S\",\n",
       " 'HX_URINARY_TRACT_INFECTION',\n",
       " 'INFREQUENT_URINARY_TRACT_INFECTIONS',\n",
       " 'PREVIOUS_URINARY_TRACT_INFECTION',\n",
       " 'RECENT_URINARY_TRACT_INFECTION',\n",
       " 'RECENT_UTI',\n",
       " 'RECURRENT_URINARY_TRACT_INFECTIONS',\n",
       " 'RECURRENT_URINARY_TRACT_INFECTION_(UTI)',\n",
       " 'RECURRENT_URINARY_TRACT_INFECTION',\n",
       " 'RECURRENT_UTIS',\n",
       " 'URINARY_INFECTION',\n",
       " 'URINARY_TRACK_INFECTION',\n",
       " 'URINARY_TRACT_INFECTION,_MULTIPLE_8/06-10/06',\n",
       " 'URINARY_TRACT_INFECTIONS',\n",
       " 'URINARY_TRACT_INFECTIONS_THROUGHOUT_PREGNANCY',\n",
       " 'URINARY_TRACT_INFECTION_(GROUP_B_STREP)',\n",
       " 'URINARY_TRACT_INFECTION',\n",
       " 'URINARY_TRACT_INFECTION_HISTORY',\n",
       " 'URINARY_TRACT_INFECTION_X2/YEAR',\n",
       " 'UTI,_RECURRENT',\n",
       " 'UTI=URINARY_TRACT_INFECTION',\n",
       " 'UTI_(LOWER_TRACT)',\n",
       " 'UTI_2/20/06',\n",
       " 'UTI_21/4/06',\n",
       " 'UTI']"
      ]
     },
     "execution_count": 48,
     "metadata": {},
     "output_type": "execute_result"
    }
   ],
   "source": [
    "[term.replace('MHTERM_', '').replace('_COUNT', '') for term in mhterms if ('URINARY' in term) or ('UTI' in term)]"
   ]
  },
  {
   "cell_type": "code",
   "execution_count": 51,
   "metadata": {},
   "outputs": [
    {
     "data": {
      "text/plain": [
       "['CLASS_B_DIABETES',\n",
       " 'CLASS_C_DIABETES_MELLITUS',\n",
       " 'DIABETES,_GESTATIONAL_(ALL_TYPES/CLASSES)',\n",
       " 'DIABETES,_TYPE_I_(INSULIN_DEPENDENT,_ALL_CLASSES)']"
      ]
     },
     "execution_count": 51,
     "metadata": {},
     "output_type": "execute_result"
    }
   ],
   "source": [
    "[term.replace('MHTERM_', '').replace('_COUNT', '') for term in mhterms if ('DIABETES' in term and 'CLASS' in term)]"
   ]
  }
 ],
 "metadata": {
  "kernelspec": {
   "display_name": "Python 3",
   "language": "python",
   "name": "python3"
  },
  "language_info": {
   "codemirror_mode": {
    "name": "ipython",
    "version": 3
   },
   "file_extension": ".py",
   "mimetype": "text/x-python",
   "name": "python",
   "nbconvert_exporter": "python",
   "pygments_lexer": "ipython3",
   "version": "3.6.3"
  }
 },
 "nbformat": 4,
 "nbformat_minor": 2
}
